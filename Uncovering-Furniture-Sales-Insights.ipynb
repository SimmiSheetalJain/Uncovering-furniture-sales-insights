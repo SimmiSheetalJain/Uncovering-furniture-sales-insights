{
 "cells": [
  {
   "cell_type": "markdown",
   "id": "913c906d",
   "metadata": {},
   "source": [
    "# Uncovering Furniture Sales Insights"
   ]
  },
  {
   "cell_type": "markdown",
   "id": "a5fff538",
   "metadata": {},
   "source": [
    "We, Sheetal Jain and Shivani Sharma conduct detailed Exploratory Data Analysis (EDA) on furniture sales dataset expanding over 2017-2020. Our dataset encompasses key dimensions such as Sales Order Number, Order Date, Delivery Date, Ship Mode, Customer Key, Product Key, and more. Through meticulous examination, we aim to unveil trends, patterns, and invaluable insights that shed light on the dynamics of furniture sales."
   ]
  },
  {
   "cell_type": "markdown",
   "id": "5d6df7ad",
   "metadata": {},
   "source": [
    "# Introduction"
   ]
  },
  {
   "cell_type": "markdown",
   "id": "be3734f8",
   "metadata": {},
   "source": [
    "we delve into the depths of Exploratory Data Analysis (EDA), armed with a rich dataset encompassing vital dimensions.\n",
    "\n",
    "With a robust dataset teeming with essential dimensions like Sales Order Number, Order Date, Delivery Date, Ship Mode, Customer Key, Product Key, Category Name, Subcategory Name, and more, we embark on common EDA tasks of data cleaning, feature engineering, visualization, and statistical analysis. Through meticulous scrutiny and insightful analysis, we are aimed at gaining comprehensive insights that empower strategic decision-making in the dynamic world of furniture retail."
   ]
  },
  {
   "cell_type": "markdown",
   "id": "39e00884",
   "metadata": {},
   "source": [
    "# Importing all the necessary Python modules "
   ]
  },
  {
   "cell_type": "code",
   "execution_count": 60,
   "id": "75764ad3",
   "metadata": {},
   "outputs": [],
   "source": [
    "#Numpy: For Numerical Computation\n",
    "import numpy as np\n",
    "#Pandas: For Data Cleaning,Selection,Filtering,Aggregation,transformation,visualization,Analysis\n",
    "import pandas as pd\n",
    "#Math :  for using mathematical formulas \n",
    "import math\n",
    "#Matplotlib: for representing data in graphical form\n",
    "import matplotlib as plt"
   ]
  },
  {
   "cell_type": "markdown",
   "id": "ec76e4fa",
   "metadata": {},
   "source": [
    "# Importing Data Set (Data Retrieval)"
   ]
  },
  {
   "cell_type": "markdown",
   "id": "e0fefe82",
   "metadata": {},
   "source": [
    "Since dataset is in current directry, we are passing file name as it is."
   ]
  },
  {
   "cell_type": "code",
   "execution_count": 61,
   "id": "707bb9be",
   "metadata": {},
   "outputs": [],
   "source": [
    "furn_df=pd.read_excel('Office_Sales.xlsx')"
   ]
  },
  {
   "cell_type": "markdown",
   "id": "f0939e0f",
   "metadata": {},
   "source": [
    "### Converting Excel files to CSV (Comma Separated Values) format "
   ]
  },
  {
   "cell_type": "markdown",
   "id": "a0cdc797",
   "metadata": {},
   "source": [
    "Working with CSV file has several benefits such as simplicity, portability, compatiability, reduced file size, easier integration, data integration, etc. So, we will convert our file in csv before working with it."
   ]
  },
  {
   "cell_type": "code",
   "execution_count": 62,
   "id": "e1a398f2",
   "metadata": {},
   "outputs": [],
   "source": [
    "furn_df.to_csv('Furniture_sales_data_set.csv')"
   ]
  },
  {
   "cell_type": "code",
   "execution_count": 63,
   "id": "860a9f48",
   "metadata": {},
   "outputs": [],
   "source": [
    "# fdf stands for furniture data frame\n",
    "fdf = pd.DataFrame(furn_df)"
   ]
  },
  {
   "cell_type": "markdown",
   "id": "081d8eec",
   "metadata": {},
   "source": [
    "### Verfiying whether the data frame has been created or not"
   ]
  },
  {
   "cell_type": "code",
   "execution_count": 64,
   "id": "3f804b6a",
   "metadata": {},
   "outputs": [
    {
     "data": {
      "text/html": [
       "<div>\n",
       "<style scoped>\n",
       "    .dataframe tbody tr th:only-of-type {\n",
       "        vertical-align: middle;\n",
       "    }\n",
       "\n",
       "    .dataframe tbody tr th {\n",
       "        vertical-align: top;\n",
       "    }\n",
       "\n",
       "    .dataframe thead th {\n",
       "        text-align: right;\n",
       "    }\n",
       "</style>\n",
       "<table border=\"1\" class=\"dataframe\">\n",
       "  <thead>\n",
       "    <tr style=\"text-align: right;\">\n",
       "      <th></th>\n",
       "      <th>SalesOrderNumber</th>\n",
       "      <th>OrderDate</th>\n",
       "      <th>DeliveryDate</th>\n",
       "      <th>ShipMode</th>\n",
       "      <th>CustomerKey</th>\n",
       "      <th>ProductKey</th>\n",
       "      <th>CategoryName</th>\n",
       "      <th>SubcategoryName</th>\n",
       "      <th>ProductName</th>\n",
       "      <th>UnitPrice</th>\n",
       "      <th>OrderQuantity</th>\n",
       "      <th>Discount %</th>\n",
       "      <th>ShippingCost</th>\n",
       "      <th>OrderPriority</th>\n",
       "    </tr>\n",
       "  </thead>\n",
       "  <tbody>\n",
       "    <tr>\n",
       "      <th>0</th>\n",
       "      <td>IN-2017-47883</td>\n",
       "      <td>2017-01-01</td>\n",
       "      <td>2017-01-08</td>\n",
       "      <td>Standard Class</td>\n",
       "      <td>56</td>\n",
       "      <td>FUR-FU-10003447</td>\n",
       "      <td>Furniture</td>\n",
       "      <td>Furnishings</td>\n",
       "      <td>Eldon Light Bulb, Duo Pack</td>\n",
       "      <td>25.26</td>\n",
       "      <td>5</td>\n",
       "      <td>0.5</td>\n",
       "      <td>11.92</td>\n",
       "      <td>Medium</td>\n",
       "    </tr>\n",
       "    <tr>\n",
       "      <th>1</th>\n",
       "      <td>IZ-2017-4680</td>\n",
       "      <td>2017-01-03</td>\n",
       "      <td>2017-01-07</td>\n",
       "      <td>Standard Class</td>\n",
       "      <td>66</td>\n",
       "      <td>FUR-NOV-10002791</td>\n",
       "      <td>Furniture</td>\n",
       "      <td>Chairs</td>\n",
       "      <td>Novimex Swivel Stool, Set of Two</td>\n",
       "      <td>166.71</td>\n",
       "      <td>4</td>\n",
       "      <td>0.6</td>\n",
       "      <td>9.81</td>\n",
       "      <td>High</td>\n",
       "    </tr>\n",
       "    <tr>\n",
       "      <th>2</th>\n",
       "      <td>ID-2017-80230</td>\n",
       "      <td>2017-01-03</td>\n",
       "      <td>2017-01-09</td>\n",
       "      <td>Standard Class</td>\n",
       "      <td>64</td>\n",
       "      <td>FUR-CH-10000666</td>\n",
       "      <td>Furniture</td>\n",
       "      <td>Chairs</td>\n",
       "      <td>SAFCO Chairmat, Black</td>\n",
       "      <td>57.39</td>\n",
       "      <td>2</td>\n",
       "      <td>0.2</td>\n",
       "      <td>8.30</td>\n",
       "      <td>Low</td>\n",
       "    </tr>\n",
       "    <tr>\n",
       "      <th>3</th>\n",
       "      <td>ID-2017-80230</td>\n",
       "      <td>2017-01-03</td>\n",
       "      <td>2017-01-09</td>\n",
       "      <td>Standard Class</td>\n",
       "      <td>64</td>\n",
       "      <td>FUR-CH-10000214</td>\n",
       "      <td>Furniture</td>\n",
       "      <td>Chairs</td>\n",
       "      <td>Hon Rocking Chair, Set of Two</td>\n",
       "      <td>132.87</td>\n",
       "      <td>2</td>\n",
       "      <td>0.0</td>\n",
       "      <td>9.63</td>\n",
       "      <td>Low</td>\n",
       "    </tr>\n",
       "    <tr>\n",
       "      <th>4</th>\n",
       "      <td>ES-2017-4869686</td>\n",
       "      <td>2017-01-03</td>\n",
       "      <td>2017-01-07</td>\n",
       "      <td>Standard Class</td>\n",
       "      <td>63</td>\n",
       "      <td>FUR-BO-10000728</td>\n",
       "      <td>Furniture</td>\n",
       "      <td>Bookcases</td>\n",
       "      <td>Dania Corner Shelving, Traditional</td>\n",
       "      <td>122.07</td>\n",
       "      <td>7</td>\n",
       "      <td>0.6</td>\n",
       "      <td>12.56</td>\n",
       "      <td>Medium</td>\n",
       "    </tr>\n",
       "    <tr>\n",
       "      <th>...</th>\n",
       "      <td>...</td>\n",
       "      <td>...</td>\n",
       "      <td>...</td>\n",
       "      <td>...</td>\n",
       "      <td>...</td>\n",
       "      <td>...</td>\n",
       "      <td>...</td>\n",
       "      <td>...</td>\n",
       "      <td>...</td>\n",
       "      <td>...</td>\n",
       "      <td>...</td>\n",
       "      <td>...</td>\n",
       "      <td>...</td>\n",
       "      <td>...</td>\n",
       "    </tr>\n",
       "    <tr>\n",
       "      <th>29994</th>\n",
       "      <td>ID-2020-63864</td>\n",
       "      <td>2020-12-30</td>\n",
       "      <td>NaT</td>\n",
       "      <td>Standard Class</td>\n",
       "      <td>18820</td>\n",
       "      <td>OFF-SU-10002388</td>\n",
       "      <td>Office Supplies</td>\n",
       "      <td>Supplies</td>\n",
       "      <td>Elite Shears, Easy Grip</td>\n",
       "      <td>48.63</td>\n",
       "      <td>2</td>\n",
       "      <td>0.7</td>\n",
       "      <td>3.25</td>\n",
       "      <td>Medium</td>\n",
       "    </tr>\n",
       "    <tr>\n",
       "      <th>29995</th>\n",
       "      <td>PL-2020-1210</td>\n",
       "      <td>2020-12-30</td>\n",
       "      <td>NaT</td>\n",
       "      <td>Standard Class</td>\n",
       "      <td>18833</td>\n",
       "      <td>OFF-KLE-10001644</td>\n",
       "      <td>Office Supplies</td>\n",
       "      <td>Supplies</td>\n",
       "      <td>Kleencut Trimmer, Steel</td>\n",
       "      <td>40.83</td>\n",
       "      <td>6</td>\n",
       "      <td>0.0</td>\n",
       "      <td>34.18</td>\n",
       "      <td>Medium</td>\n",
       "    </tr>\n",
       "    <tr>\n",
       "      <th>29996</th>\n",
       "      <td>MX-2020-110527</td>\n",
       "      <td>2020-12-31</td>\n",
       "      <td>NaT</td>\n",
       "      <td>Second Class</td>\n",
       "      <td>18654</td>\n",
       "      <td>OFF-SU-10001624</td>\n",
       "      <td>Office Supplies</td>\n",
       "      <td>Supplies</td>\n",
       "      <td>Kleencut Ruler, High Speed</td>\n",
       "      <td>9.04</td>\n",
       "      <td>8</td>\n",
       "      <td>0.5</td>\n",
       "      <td>10.75</td>\n",
       "      <td>Medium</td>\n",
       "    </tr>\n",
       "    <tr>\n",
       "      <th>29997</th>\n",
       "      <td>ES-2020-2815584</td>\n",
       "      <td>2020-12-31</td>\n",
       "      <td>NaT</td>\n",
       "      <td>Standard Class</td>\n",
       "      <td>11154</td>\n",
       "      <td>OFF-SU-10004279</td>\n",
       "      <td>Office Supplies</td>\n",
       "      <td>Supplies</td>\n",
       "      <td>Kleencut Shears, Serrated</td>\n",
       "      <td>43.47</td>\n",
       "      <td>6</td>\n",
       "      <td>0.7</td>\n",
       "      <td>3.67</td>\n",
       "      <td>High</td>\n",
       "    </tr>\n",
       "    <tr>\n",
       "      <th>29998</th>\n",
       "      <td>IN-2020-75603</td>\n",
       "      <td>2020-12-31</td>\n",
       "      <td>NaT</td>\n",
       "      <td>Second Class</td>\n",
       "      <td>18846</td>\n",
       "      <td>OFF-SU-10001618</td>\n",
       "      <td>Office Supplies</td>\n",
       "      <td>Supplies</td>\n",
       "      <td>Kleencut Letter Opener, Easy Grip</td>\n",
       "      <td>28.68</td>\n",
       "      <td>9</td>\n",
       "      <td>0.8</td>\n",
       "      <td>14.20</td>\n",
       "      <td>Medium</td>\n",
       "    </tr>\n",
       "  </tbody>\n",
       "</table>\n",
       "<p>29999 rows × 14 columns</p>\n",
       "</div>"
      ],
      "text/plain": [
       "      SalesOrderNumber  OrderDate DeliveryDate        ShipMode  CustomerKey  \\\n",
       "0        IN-2017-47883 2017-01-01   2017-01-08  Standard Class           56   \n",
       "1         IZ-2017-4680 2017-01-03   2017-01-07  Standard Class           66   \n",
       "2        ID-2017-80230 2017-01-03   2017-01-09  Standard Class           64   \n",
       "3        ID-2017-80230 2017-01-03   2017-01-09  Standard Class           64   \n",
       "4      ES-2017-4869686 2017-01-03   2017-01-07  Standard Class           63   \n",
       "...                ...        ...          ...             ...          ...   \n",
       "29994    ID-2020-63864 2020-12-30          NaT  Standard Class        18820   \n",
       "29995     PL-2020-1210 2020-12-30          NaT  Standard Class        18833   \n",
       "29996   MX-2020-110527 2020-12-31          NaT    Second Class        18654   \n",
       "29997  ES-2020-2815584 2020-12-31          NaT  Standard Class        11154   \n",
       "29998    IN-2020-75603 2020-12-31          NaT    Second Class        18846   \n",
       "\n",
       "             ProductKey     CategoryName SubcategoryName  \\\n",
       "0       FUR-FU-10003447        Furniture     Furnishings   \n",
       "1      FUR-NOV-10002791        Furniture          Chairs   \n",
       "2       FUR-CH-10000666        Furniture          Chairs   \n",
       "3       FUR-CH-10000214        Furniture          Chairs   \n",
       "4       FUR-BO-10000728        Furniture       Bookcases   \n",
       "...                 ...              ...             ...   \n",
       "29994   OFF-SU-10002388  Office Supplies        Supplies   \n",
       "29995  OFF-KLE-10001644  Office Supplies        Supplies   \n",
       "29996   OFF-SU-10001624  Office Supplies        Supplies   \n",
       "29997   OFF-SU-10004279  Office Supplies        Supplies   \n",
       "29998   OFF-SU-10001618  Office Supplies        Supplies   \n",
       "\n",
       "                              ProductName  UnitPrice  OrderQuantity  \\\n",
       "0              Eldon Light Bulb, Duo Pack      25.26              5   \n",
       "1        Novimex Swivel Stool, Set of Two     166.71              4   \n",
       "2                   SAFCO Chairmat, Black      57.39              2   \n",
       "3           Hon Rocking Chair, Set of Two     132.87              2   \n",
       "4      Dania Corner Shelving, Traditional     122.07              7   \n",
       "...                                   ...        ...            ...   \n",
       "29994             Elite Shears, Easy Grip      48.63              2   \n",
       "29995             Kleencut Trimmer, Steel      40.83              6   \n",
       "29996          Kleencut Ruler, High Speed       9.04              8   \n",
       "29997           Kleencut Shears, Serrated      43.47              6   \n",
       "29998   Kleencut Letter Opener, Easy Grip      28.68              9   \n",
       "\n",
       "       Discount %  ShippingCost OrderPriority  \n",
       "0             0.5         11.92        Medium  \n",
       "1             0.6          9.81          High  \n",
       "2             0.2          8.30           Low  \n",
       "3             0.0          9.63           Low  \n",
       "4             0.6         12.56        Medium  \n",
       "...           ...           ...           ...  \n",
       "29994         0.7          3.25        Medium  \n",
       "29995         0.0         34.18        Medium  \n",
       "29996         0.5         10.75        Medium  \n",
       "29997         0.7          3.67          High  \n",
       "29998         0.8         14.20        Medium  \n",
       "\n",
       "[29999 rows x 14 columns]"
      ]
     },
     "execution_count": 64,
     "metadata": {},
     "output_type": "execute_result"
    }
   ],
   "source": [
    "fdf"
   ]
  },
  {
   "cell_type": "markdown",
   "id": "384f3026",
   "metadata": {},
   "source": [
    "### Description of dataset"
   ]
  },
  {
   "cell_type": "markdown",
   "id": "bbc5f789",
   "metadata": {},
   "source": [
    "##### The furniture sales dataset contains the following information for each of the 29,999 sales orders:\n",
    "\n",
    "`Sales order number:` This unique identifier ranges from IN-2017-47883 to PL-2020-1210.<br>\n",
    "`Order date:` This indicates the date the order was placed, ranging from 2017-01-03 to 2020-12-30.<br>\n",
    "`Delivery date:` This specifies the date the order was delivered, with some entries missing delivery dates (NaT).<br>\n",
    "`Ship mode:` This refers to the shipping method used, with \"Standard\" being the most frequent option.<br>\n",
    "`Customer key:` This seems to be a unique identifier for the customer who placed the order, ranging from 56 to 18859.<br>\n",
    "`Product key:` This likely identifies the specific product sold, ranging from FUR-FU-10003447 to OFF-KLE-10001644.<br>\n",
    "`Category name:` This broad category groups the product, such as \"Furniture\" or \"Office Supplies\".<br>\n",
    "`Subcategory name:` This provides more specific details about the product category, such as \"Furnishings\" or \"Chairs\".<br>\n",
    "`Product name:` This is the name of the product sold, like \"Eldon Light Bulb, Duo Pack\" or \"Novimex Swivel Stool. Set of Two\".<br>\n",
    "`Unit price:` This shows the price per unit of the product, ranging from $1.39 to $1889.99.<br>\n",
    "`Order quantity:` This specifies the number of units purchased in each order, ranging from 1 to 16.<br>"
   ]
  },
  {
   "cell_type": "markdown",
   "id": "1aaf6b0d",
   "metadata": {},
   "source": [
    "# Overview of furniture data set"
   ]
  },
  {
   "cell_type": "markdown",
   "id": "1ebde691",
   "metadata": {},
   "source": [
    "## Column name and the number of unique elements in that column"
   ]
  },
  {
   "cell_type": "code",
   "execution_count": 65,
   "id": "df9c2805",
   "metadata": {},
   "outputs": [
    {
     "data": {
      "text/plain": [
       "SalesOrderNumber    17801\n",
       "OrderDate            1406\n",
       "DeliveryDate         1455\n",
       "ShipMode                4\n",
       "CustomerKey         16874\n",
       "ProductKey           5963\n",
       "CategoryName            2\n",
       "SubcategoryName        10\n",
       "ProductName          2432\n",
       "UnitPrice            2796\n",
       "OrderQuantity          16\n",
       "Discount %              9\n",
       "ShippingCost        11144\n",
       "OrderPriority           4\n",
       "dtype: int64"
      ]
     },
     "execution_count": 65,
     "metadata": {},
     "output_type": "execute_result"
    }
   ],
   "source": [
    "pd.Series(fdf.nunique())"
   ]
  },
  {
   "cell_type": "markdown",
   "id": "0a5cbad2",
   "metadata": {},
   "source": [
    "## Overview of numerical column"
   ]
  },
  {
   "cell_type": "code",
   "execution_count": 66,
   "id": "349b0f6e",
   "metadata": {},
   "outputs": [
    {
     "data": {
      "text/html": [
       "<div>\n",
       "<style scoped>\n",
       "    .dataframe tbody tr th:only-of-type {\n",
       "        vertical-align: middle;\n",
       "    }\n",
       "\n",
       "    .dataframe tbody tr th {\n",
       "        vertical-align: top;\n",
       "    }\n",
       "\n",
       "    .dataframe thead th {\n",
       "        text-align: right;\n",
       "    }\n",
       "</style>\n",
       "<table border=\"1\" class=\"dataframe\">\n",
       "  <thead>\n",
       "    <tr style=\"text-align: right;\">\n",
       "      <th></th>\n",
       "      <th>CustomerKey</th>\n",
       "      <th>UnitPrice</th>\n",
       "      <th>OrderQuantity</th>\n",
       "      <th>Discount %</th>\n",
       "      <th>ShippingCost</th>\n",
       "    </tr>\n",
       "  </thead>\n",
       "  <tbody>\n",
       "    <tr>\n",
       "      <th>count</th>\n",
       "      <td>29999.000000</td>\n",
       "      <td>29999.000000</td>\n",
       "      <td>29999.000000</td>\n",
       "      <td>29999.000000</td>\n",
       "      <td>29999.000000</td>\n",
       "    </tr>\n",
       "    <tr>\n",
       "      <th>mean</th>\n",
       "      <td>9154.332778</td>\n",
       "      <td>79.367678</td>\n",
       "      <td>3.476916</td>\n",
       "      <td>0.393013</td>\n",
       "      <td>30.353239</td>\n",
       "    </tr>\n",
       "    <tr>\n",
       "      <th>std</th>\n",
       "      <td>5412.576391</td>\n",
       "      <td>121.566872</td>\n",
       "      <td>2.284369</td>\n",
       "      <td>0.259108</td>\n",
       "      <td>68.112116</td>\n",
       "    </tr>\n",
       "    <tr>\n",
       "      <th>min</th>\n",
       "      <td>56.000000</td>\n",
       "      <td>1.390000</td>\n",
       "      <td>1.000000</td>\n",
       "      <td>0.000000</td>\n",
       "      <td>0.002000</td>\n",
       "    </tr>\n",
       "    <tr>\n",
       "      <th>25%</th>\n",
       "      <td>4424.000000</td>\n",
       "      <td>15.750000</td>\n",
       "      <td>2.000000</td>\n",
       "      <td>0.200000</td>\n",
       "      <td>3.630000</td>\n",
       "    </tr>\n",
       "    <tr>\n",
       "      <th>50%</th>\n",
       "      <td>9043.000000</td>\n",
       "      <td>33.560000</td>\n",
       "      <td>3.000000</td>\n",
       "      <td>0.400000</td>\n",
       "      <td>9.509000</td>\n",
       "    </tr>\n",
       "    <tr>\n",
       "      <th>75%</th>\n",
       "      <td>13784.000000</td>\n",
       "      <td>82.230000</td>\n",
       "      <td>5.000000</td>\n",
       "      <td>0.600000</td>\n",
       "      <td>27.211500</td>\n",
       "    </tr>\n",
       "    <tr>\n",
       "      <th>max</th>\n",
       "      <td>18859.000000</td>\n",
       "      <td>1889.990000</td>\n",
       "      <td>16.000000</td>\n",
       "      <td>0.800000</td>\n",
       "      <td>1581.510000</td>\n",
       "    </tr>\n",
       "  </tbody>\n",
       "</table>\n",
       "</div>"
      ],
      "text/plain": [
       "        CustomerKey     UnitPrice  OrderQuantity    Discount %  ShippingCost\n",
       "count  29999.000000  29999.000000   29999.000000  29999.000000  29999.000000\n",
       "mean    9154.332778     79.367678       3.476916      0.393013     30.353239\n",
       "std     5412.576391    121.566872       2.284369      0.259108     68.112116\n",
       "min       56.000000      1.390000       1.000000      0.000000      0.002000\n",
       "25%     4424.000000     15.750000       2.000000      0.200000      3.630000\n",
       "50%     9043.000000     33.560000       3.000000      0.400000      9.509000\n",
       "75%    13784.000000     82.230000       5.000000      0.600000     27.211500\n",
       "max    18859.000000   1889.990000      16.000000      0.800000   1581.510000"
      ]
     },
     "execution_count": 66,
     "metadata": {},
     "output_type": "execute_result"
    }
   ],
   "source": [
    "fdf.describe()"
   ]
  },
  {
   "cell_type": "markdown",
   "id": "def1d32e",
   "metadata": {},
   "source": [
    "##  The Available Shipping Modes, Furniture Categories, Furniture Sub Categories, Products, Discount Rates, and Priority types in the data set"
   ]
  },
  {
   "cell_type": "markdown",
   "id": "8b0be4dc",
   "metadata": {},
   "source": [
    "### `Shipping Modes`"
   ]
  },
  {
   "cell_type": "code",
   "execution_count": 67,
   "id": "a3854dcc",
   "metadata": {},
   "outputs": [
    {
     "data": {
      "text/plain": [
       "0    Standard Class\n",
       "1      Second Class\n",
       "2       First Class\n",
       "3          Same Day\n",
       "dtype: object"
      ]
     },
     "execution_count": 67,
     "metadata": {},
     "output_type": "execute_result"
    }
   ],
   "source": [
    "shippingmode=pd.Series(fdf['ShipMode'].unique())\n",
    "shippingmode"
   ]
  },
  {
   "cell_type": "markdown",
   "id": "16d6a483",
   "metadata": {},
   "source": [
    "### `Furniture Categories`"
   ]
  },
  {
   "cell_type": "code",
   "execution_count": 68,
   "id": "139218fb",
   "metadata": {},
   "outputs": [
    {
     "data": {
      "text/plain": [
       "0          Furniture\n",
       "1    Office Supplies\n",
       "dtype: object"
      ]
     },
     "execution_count": 68,
     "metadata": {},
     "output_type": "execute_result"
    }
   ],
   "source": [
    "furn_categories=pd.Series(fdf['CategoryName'].unique())\n",
    "furn_categories"
   ]
  },
  {
   "cell_type": "markdown",
   "id": "6aba1830",
   "metadata": {},
   "source": [
    "### `Furniture Sub Categories`"
   ]
  },
  {
   "cell_type": "code",
   "execution_count": 69,
   "id": "c8a0d3d1",
   "metadata": {},
   "outputs": [
    {
     "data": {
      "text/plain": [
       "0    Furnishings\n",
       "1         Chairs\n",
       "2      Bookcases\n",
       "3         Tables\n",
       "4     Appliances\n",
       "5            Art\n",
       "6        Binders\n",
       "7          Paper\n",
       "8        Storage\n",
       "9       Supplies\n",
       "dtype: object"
      ]
     },
     "execution_count": 69,
     "metadata": {},
     "output_type": "execute_result"
    }
   ],
   "source": [
    "furn_sub_categories=pd.Series(fdf['SubcategoryName'].unique())\n",
    "furn_sub_categories"
   ]
  },
  {
   "cell_type": "markdown",
   "id": "3afb54fb",
   "metadata": {},
   "source": [
    "### `Products`"
   ]
  },
  {
   "cell_type": "code",
   "execution_count": 70,
   "id": "ab93602c",
   "metadata": {},
   "outputs": [
    {
     "data": {
      "text/plain": [
       "0                              Eldon Light Bulb, Duo Pack\n",
       "1                        Novimex Swivel Stool, Set of Two\n",
       "2                                   SAFCO Chairmat, Black\n",
       "3                           Hon Rocking Chair, Set of Two\n",
       "4                      Dania Corner Shelving, Traditional\n",
       "                              ...                        \n",
       "2427                          Kleencut Shears, High Speed\n",
       "2428              Acme Preferred Stainless Steel Scissors\n",
       "2429                                       Letter Slitter\n",
       "2430    Kleencut Forged Office Shears by Acme United C...\n",
       "2431                  Acme Kleencut Forged Steel Scissors\n",
       "Length: 2432, dtype: object"
      ]
     },
     "execution_count": 70,
     "metadata": {},
     "output_type": "execute_result"
    }
   ],
   "source": [
    "products=pd.Series(fdf['ProductName'].unique())\n",
    "products"
   ]
  },
  {
   "cell_type": "markdown",
   "id": "58f1b492",
   "metadata": {},
   "source": [
    "#### There are total  2432 products in furniture data set"
   ]
  },
  {
   "cell_type": "markdown",
   "id": "286b48b7",
   "metadata": {},
   "source": [
    "### `Discount Rates`"
   ]
  },
  {
   "cell_type": "code",
   "execution_count": 71,
   "id": "c5ca0c06",
   "metadata": {
    "scrolled": true
   },
   "outputs": [
    {
     "data": {
      "text/plain": [
       "0    0.5\n",
       "1    0.6\n",
       "2    0.2\n",
       "3    0.0\n",
       "4    0.7\n",
       "5    0.8\n",
       "6    0.3\n",
       "7    0.4\n",
       "8    0.1\n",
       "dtype: float64"
      ]
     },
     "execution_count": 71,
     "metadata": {},
     "output_type": "execute_result"
    }
   ],
   "source": [
    "dsct_rates=pd.Series(fdf['Discount %'].unique())\n",
    "dsct_rates"
   ]
  },
  {
   "cell_type": "markdown",
   "id": "6826c4c0",
   "metadata": {},
   "source": [
    "### `Priority Types`"
   ]
  },
  {
   "cell_type": "code",
   "execution_count": 72,
   "id": "453d90d1",
   "metadata": {},
   "outputs": [
    {
     "data": {
      "text/plain": [
       "0      Medium\n",
       "1        High\n",
       "2         Low\n",
       "3    Critical\n",
       "dtype: object"
      ]
     },
     "execution_count": 72,
     "metadata": {},
     "output_type": "execute_result"
    }
   ],
   "source": [
    "order_priority=pd.Series(fdf['OrderPriority'].unique())\n",
    "order_priority"
   ]
  },
  {
   "cell_type": "markdown",
   "id": "207384f1",
   "metadata": {},
   "source": [
    "# Data Cleansing "
   ]
  },
  {
   "cell_type": "markdown",
   "id": "2863416b",
   "metadata": {},
   "source": [
    "## Removing Missing Values"
   ]
  },
  {
   "cell_type": "code",
   "execution_count": 73,
   "id": "e40d1831",
   "metadata": {},
   "outputs": [
    {
     "data": {
      "text/plain": [
       "SalesOrderNumber      0\n",
       "OrderDate             0\n",
       "DeliveryDate        170\n",
       "ShipMode              0\n",
       "CustomerKey           0\n",
       "ProductKey            0\n",
       "CategoryName          0\n",
       "SubcategoryName       0\n",
       "ProductName           0\n",
       "UnitPrice             0\n",
       "OrderQuantity         0\n",
       "Discount %            0\n",
       "ShippingCost          0\n",
       "OrderPriority         0\n",
       "dtype: int64"
      ]
     },
     "execution_count": 73,
     "metadata": {},
     "output_type": "execute_result"
    }
   ],
   "source": [
    "missing_values_count = fdf.isna().sum()\n",
    "missing_values_count"
   ]
  },
  {
   "cell_type": "markdown",
   "id": "95418f94",
   "metadata": {},
   "source": [
    "### We can see that there are 170 missing values in DeliveryDate column. To handle missing dates we have following options:\n",
    "* Use a Default Date\n",
    "* Use the Most Frequent Date\n",
    "* Use Forward or Backward Fill\n",
    "* Interpolate Dates\n",
    "* Drop Missing Dates\n",
    "* Use Domain Knowledge"
   ]
  },
  {
   "cell_type": "markdown",
   "id": "882785ec",
   "metadata": {},
   "source": [
    "##### For tracking undelivered records we can separated them and store in a different file."
   ]
  },
  {
   "cell_type": "markdown",
   "id": "63723f8d",
   "metadata": {},
   "source": [
    "### Separating records of Undelivered Orders and Saving them in a different file"
   ]
  },
  {
   "cell_type": "code",
   "execution_count": 75,
   "id": "b23e2836",
   "metadata": {},
   "outputs": [
    {
     "ename": "PermissionError",
     "evalue": "[Errno 13] Permission denied: 'undelivered_orders.xlsx'",
     "output_type": "error",
     "traceback": [
      "\u001b[1;31m---------------------------------------------------------------------------\u001b[0m",
      "\u001b[1;31mPermissionError\u001b[0m                           Traceback (most recent call last)",
      "Cell \u001b[1;32mIn[75], line 3\u001b[0m\n\u001b[0;32m      1\u001b[0m \u001b[38;5;66;03m#Separating \u001b[39;00m\n\u001b[0;32m      2\u001b[0m Undelivered_orders \u001b[38;5;241m=\u001b[39m fdf[fdf\u001b[38;5;241m.\u001b[39misnull()\u001b[38;5;241m.\u001b[39many(axis\u001b[38;5;241m=\u001b[39m\u001b[38;5;241m1\u001b[39m)]\n\u001b[1;32m----> 3\u001b[0m Undelivered_orders\u001b[38;5;241m.\u001b[39mto_excel(\u001b[38;5;124m'\u001b[39m\u001b[38;5;124mundelivered_orders.xlsx\u001b[39m\u001b[38;5;124m'\u001b[39m)\n\u001b[0;32m      4\u001b[0m \u001b[38;5;66;03m#View of these records\u001b[39;00m\n\u001b[0;32m      5\u001b[0m Undelivered_orders\n",
      "File \u001b[1;32m~\\anaconda3\\Lib\\site-packages\\pandas\\util\\_decorators.py:211\u001b[0m, in \u001b[0;36mdeprecate_kwarg.<locals>._deprecate_kwarg.<locals>.wrapper\u001b[1;34m(*args, **kwargs)\u001b[0m\n\u001b[0;32m    209\u001b[0m     \u001b[38;5;28;01melse\u001b[39;00m:\n\u001b[0;32m    210\u001b[0m         kwargs[new_arg_name] \u001b[38;5;241m=\u001b[39m new_arg_value\n\u001b[1;32m--> 211\u001b[0m \u001b[38;5;28;01mreturn\u001b[39;00m func(\u001b[38;5;241m*\u001b[39margs, \u001b[38;5;241m*\u001b[39m\u001b[38;5;241m*\u001b[39mkwargs)\n",
      "File \u001b[1;32m~\\anaconda3\\Lib\\site-packages\\pandas\\util\\_decorators.py:211\u001b[0m, in \u001b[0;36mdeprecate_kwarg.<locals>._deprecate_kwarg.<locals>.wrapper\u001b[1;34m(*args, **kwargs)\u001b[0m\n\u001b[0;32m    209\u001b[0m     \u001b[38;5;28;01melse\u001b[39;00m:\n\u001b[0;32m    210\u001b[0m         kwargs[new_arg_name] \u001b[38;5;241m=\u001b[39m new_arg_value\n\u001b[1;32m--> 211\u001b[0m \u001b[38;5;28;01mreturn\u001b[39;00m func(\u001b[38;5;241m*\u001b[39margs, \u001b[38;5;241m*\u001b[39m\u001b[38;5;241m*\u001b[39mkwargs)\n",
      "File \u001b[1;32m~\\anaconda3\\Lib\\site-packages\\pandas\\core\\generic.py:2374\u001b[0m, in \u001b[0;36mNDFrame.to_excel\u001b[1;34m(self, excel_writer, sheet_name, na_rep, float_format, columns, header, index, index_label, startrow, startcol, engine, merge_cells, encoding, inf_rep, verbose, freeze_panes, storage_options)\u001b[0m\n\u001b[0;32m   2361\u001b[0m \u001b[38;5;28;01mfrom\u001b[39;00m \u001b[38;5;21;01mpandas\u001b[39;00m\u001b[38;5;21;01m.\u001b[39;00m\u001b[38;5;21;01mio\u001b[39;00m\u001b[38;5;21;01m.\u001b[39;00m\u001b[38;5;21;01mformats\u001b[39;00m\u001b[38;5;21;01m.\u001b[39;00m\u001b[38;5;21;01mexcel\u001b[39;00m \u001b[38;5;28;01mimport\u001b[39;00m ExcelFormatter\n\u001b[0;32m   2363\u001b[0m formatter \u001b[38;5;241m=\u001b[39m ExcelFormatter(\n\u001b[0;32m   2364\u001b[0m     df,\n\u001b[0;32m   2365\u001b[0m     na_rep\u001b[38;5;241m=\u001b[39mna_rep,\n\u001b[1;32m   (...)\u001b[0m\n\u001b[0;32m   2372\u001b[0m     inf_rep\u001b[38;5;241m=\u001b[39minf_rep,\n\u001b[0;32m   2373\u001b[0m )\n\u001b[1;32m-> 2374\u001b[0m formatter\u001b[38;5;241m.\u001b[39mwrite(\n\u001b[0;32m   2375\u001b[0m     excel_writer,\n\u001b[0;32m   2376\u001b[0m     sheet_name\u001b[38;5;241m=\u001b[39msheet_name,\n\u001b[0;32m   2377\u001b[0m     startrow\u001b[38;5;241m=\u001b[39mstartrow,\n\u001b[0;32m   2378\u001b[0m     startcol\u001b[38;5;241m=\u001b[39mstartcol,\n\u001b[0;32m   2379\u001b[0m     freeze_panes\u001b[38;5;241m=\u001b[39mfreeze_panes,\n\u001b[0;32m   2380\u001b[0m     engine\u001b[38;5;241m=\u001b[39mengine,\n\u001b[0;32m   2381\u001b[0m     storage_options\u001b[38;5;241m=\u001b[39mstorage_options,\n\u001b[0;32m   2382\u001b[0m )\n",
      "File \u001b[1;32m~\\anaconda3\\Lib\\site-packages\\pandas\\io\\formats\\excel.py:944\u001b[0m, in \u001b[0;36mExcelFormatter.write\u001b[1;34m(self, writer, sheet_name, startrow, startcol, freeze_panes, engine, storage_options)\u001b[0m\n\u001b[0;32m    940\u001b[0m     need_save \u001b[38;5;241m=\u001b[39m \u001b[38;5;28;01mFalse\u001b[39;00m\n\u001b[0;32m    941\u001b[0m \u001b[38;5;28;01melse\u001b[39;00m:\n\u001b[0;32m    942\u001b[0m     \u001b[38;5;66;03m# error: Cannot instantiate abstract class 'ExcelWriter' with abstract\u001b[39;00m\n\u001b[0;32m    943\u001b[0m     \u001b[38;5;66;03m# attributes 'engine', 'save', 'supported_extensions' and 'write_cells'\u001b[39;00m\n\u001b[1;32m--> 944\u001b[0m     writer \u001b[38;5;241m=\u001b[39m ExcelWriter(  \u001b[38;5;66;03m# type: ignore[abstract]\u001b[39;00m\n\u001b[0;32m    945\u001b[0m         writer, engine\u001b[38;5;241m=\u001b[39mengine, storage_options\u001b[38;5;241m=\u001b[39mstorage_options\n\u001b[0;32m    946\u001b[0m     )\n\u001b[0;32m    947\u001b[0m     need_save \u001b[38;5;241m=\u001b[39m \u001b[38;5;28;01mTrue\u001b[39;00m\n\u001b[0;32m    949\u001b[0m \u001b[38;5;28;01mtry\u001b[39;00m:\n",
      "File \u001b[1;32m~\\anaconda3\\Lib\\site-packages\\pandas\\io\\excel\\_openpyxl.py:60\u001b[0m, in \u001b[0;36mOpenpyxlWriter.__init__\u001b[1;34m(self, path, engine, date_format, datetime_format, mode, storage_options, if_sheet_exists, engine_kwargs, **kwargs)\u001b[0m\n\u001b[0;32m     56\u001b[0m \u001b[38;5;28;01mfrom\u001b[39;00m \u001b[38;5;21;01mopenpyxl\u001b[39;00m\u001b[38;5;21;01m.\u001b[39;00m\u001b[38;5;21;01mworkbook\u001b[39;00m \u001b[38;5;28;01mimport\u001b[39;00m Workbook\n\u001b[0;32m     58\u001b[0m engine_kwargs \u001b[38;5;241m=\u001b[39m combine_kwargs(engine_kwargs, kwargs)\n\u001b[1;32m---> 60\u001b[0m \u001b[38;5;28msuper\u001b[39m()\u001b[38;5;241m.\u001b[39m\u001b[38;5;21m__init__\u001b[39m(\n\u001b[0;32m     61\u001b[0m     path,\n\u001b[0;32m     62\u001b[0m     mode\u001b[38;5;241m=\u001b[39mmode,\n\u001b[0;32m     63\u001b[0m     storage_options\u001b[38;5;241m=\u001b[39mstorage_options,\n\u001b[0;32m     64\u001b[0m     if_sheet_exists\u001b[38;5;241m=\u001b[39mif_sheet_exists,\n\u001b[0;32m     65\u001b[0m     engine_kwargs\u001b[38;5;241m=\u001b[39mengine_kwargs,\n\u001b[0;32m     66\u001b[0m )\n\u001b[0;32m     68\u001b[0m \u001b[38;5;66;03m# ExcelWriter replaced \"a\" by \"r+\" to allow us to first read the excel file from\u001b[39;00m\n\u001b[0;32m     69\u001b[0m \u001b[38;5;66;03m# the file and later write to it\u001b[39;00m\n\u001b[0;32m     70\u001b[0m \u001b[38;5;28;01mif\u001b[39;00m \u001b[38;5;124m\"\u001b[39m\u001b[38;5;124mr+\u001b[39m\u001b[38;5;124m\"\u001b[39m \u001b[38;5;129;01min\u001b[39;00m \u001b[38;5;28mself\u001b[39m\u001b[38;5;241m.\u001b[39m_mode:  \u001b[38;5;66;03m# Load from existing workbook\u001b[39;00m\n",
      "File \u001b[1;32m~\\anaconda3\\Lib\\site-packages\\pandas\\io\\excel\\_base.py:1313\u001b[0m, in \u001b[0;36mExcelWriter.__init__\u001b[1;34m(self, path, engine, date_format, datetime_format, mode, storage_options, if_sheet_exists, engine_kwargs, **kwargs)\u001b[0m\n\u001b[0;32m   1309\u001b[0m \u001b[38;5;28mself\u001b[39m\u001b[38;5;241m.\u001b[39m_handles \u001b[38;5;241m=\u001b[39m IOHandles(\n\u001b[0;32m   1310\u001b[0m     cast(IO[\u001b[38;5;28mbytes\u001b[39m], path), compression\u001b[38;5;241m=\u001b[39m{\u001b[38;5;124m\"\u001b[39m\u001b[38;5;124mcompression\u001b[39m\u001b[38;5;124m\"\u001b[39m: \u001b[38;5;28;01mNone\u001b[39;00m}\n\u001b[0;32m   1311\u001b[0m )\n\u001b[0;32m   1312\u001b[0m \u001b[38;5;28;01mif\u001b[39;00m \u001b[38;5;129;01mnot\u001b[39;00m \u001b[38;5;28misinstance\u001b[39m(path, ExcelWriter):\n\u001b[1;32m-> 1313\u001b[0m     \u001b[38;5;28mself\u001b[39m\u001b[38;5;241m.\u001b[39m_handles \u001b[38;5;241m=\u001b[39m get_handle(\n\u001b[0;32m   1314\u001b[0m         path, mode, storage_options\u001b[38;5;241m=\u001b[39mstorage_options, is_text\u001b[38;5;241m=\u001b[39m\u001b[38;5;28;01mFalse\u001b[39;00m\n\u001b[0;32m   1315\u001b[0m     )\n\u001b[0;32m   1316\u001b[0m \u001b[38;5;28mself\u001b[39m\u001b[38;5;241m.\u001b[39m_cur_sheet \u001b[38;5;241m=\u001b[39m \u001b[38;5;28;01mNone\u001b[39;00m\n\u001b[0;32m   1318\u001b[0m \u001b[38;5;28;01mif\u001b[39;00m date_format \u001b[38;5;129;01mis\u001b[39;00m \u001b[38;5;28;01mNone\u001b[39;00m:\n",
      "File \u001b[1;32m~\\anaconda3\\Lib\\site-packages\\pandas\\io\\common.py:865\u001b[0m, in \u001b[0;36mget_handle\u001b[1;34m(path_or_buf, mode, encoding, compression, memory_map, is_text, errors, storage_options)\u001b[0m\n\u001b[0;32m    856\u001b[0m         handle \u001b[38;5;241m=\u001b[39m \u001b[38;5;28mopen\u001b[39m(\n\u001b[0;32m    857\u001b[0m             handle,\n\u001b[0;32m    858\u001b[0m             ioargs\u001b[38;5;241m.\u001b[39mmode,\n\u001b[1;32m   (...)\u001b[0m\n\u001b[0;32m    861\u001b[0m             newline\u001b[38;5;241m=\u001b[39m\u001b[38;5;124m\"\u001b[39m\u001b[38;5;124m\"\u001b[39m,\n\u001b[0;32m    862\u001b[0m         )\n\u001b[0;32m    863\u001b[0m     \u001b[38;5;28;01melse\u001b[39;00m:\n\u001b[0;32m    864\u001b[0m         \u001b[38;5;66;03m# Binary mode\u001b[39;00m\n\u001b[1;32m--> 865\u001b[0m         handle \u001b[38;5;241m=\u001b[39m \u001b[38;5;28mopen\u001b[39m(handle, ioargs\u001b[38;5;241m.\u001b[39mmode)\n\u001b[0;32m    866\u001b[0m     handles\u001b[38;5;241m.\u001b[39mappend(handle)\n\u001b[0;32m    868\u001b[0m \u001b[38;5;66;03m# Convert BytesIO or file objects passed with an encoding\u001b[39;00m\n",
      "\u001b[1;31mPermissionError\u001b[0m: [Errno 13] Permission denied: 'undelivered_orders.xlsx'"
     ]
    }
   ],
   "source": [
    "#Separating \n",
    "Undelivered_orders = fdf[fdf.isnull().any(axis=1)]\n",
    "Undelivered_orders.to_excel('undelivered_orders.xlsx')\n",
    "#View of these records\n",
    "Undelivered_orders"
   ]
  },
  {
   "cell_type": "markdown",
   "id": "55a2320a",
   "metadata": {},
   "source": [
    "### Setting DeliveryDate cell 'In-Process'"
   ]
  },
  {
   "cell_type": "code",
   "execution_count": 55,
   "id": "747e0888",
   "metadata": {},
   "outputs": [],
   "source": [
    "fdf['DeliveryDate'] = fdf['DeliveryDate'].fillna('In-Process')        "
   ]
  },
  {
   "cell_type": "code",
   "execution_count": null,
   "id": "c385f207",
   "metadata": {},
   "outputs": [],
   "source": [
    "fdf"
   ]
  },
  {
   "cell_type": "code",
   "execution_count": null,
   "id": "6c2c2dc6",
   "metadata": {},
   "outputs": [],
   "source": []
  }
 ],
 "metadata": {
  "kernelspec": {
   "display_name": "Python 3 (ipykernel)",
   "language": "python",
   "name": "python3"
  },
  "language_info": {
   "codemirror_mode": {
    "name": "ipython",
    "version": 3
   },
   "file_extension": ".py",
   "mimetype": "text/x-python",
   "name": "python",
   "nbconvert_exporter": "python",
   "pygments_lexer": "ipython3",
   "version": "3.11.4"
  }
 },
 "nbformat": 4,
 "nbformat_minor": 5
}
