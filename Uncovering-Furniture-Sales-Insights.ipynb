{
 "cells": [
  {
   "cell_type": "markdown",
   "id": "5d6df7ad",
   "metadata": {},
   "source": [
    "# Chapter 1 : Introduction"
   ]
  },
  {
   "cell_type": "markdown",
   "id": "be3734f8",
   "metadata": {},
   "source": [
    "we delve into the depths of Exploratory Data Analysis (EDA), armed with a rich dataset encompassing vital dimensions.\n",
    "\n",
    "With a robust dataset teeming with essential dimensions like Sales Order Number, Order Date, Delivery Date, Ship Mode, Customer Key, Product Key, Category Name, Subcategory Name, and more, we embark on common EDA tasks of data cleaning, feature engineering, visualization, and statistical analysis. Through meticulous scrutiny and insightful analysis, we are aimed at gaining comprehensive insights that empower strategic decision-making in the dynamic world of furniture retail."
   ]
  },
  {
   "cell_type": "markdown",
   "id": "39e00884",
   "metadata": {},
   "source": [
    "# Importing all the necessary Python modules "
   ]
  },
  {
   "cell_type": "code",
   "execution_count": 3,
   "id": "75764ad3",
   "metadata": {},
   "outputs": [],
   "source": [
    "#Numpy: For Numerical Computation\n",
    "import numpy as np\n",
    "#Pandas: For Data Cleaning,Selection,Filtering,Aggregation,transformation,visualization,Analysis\n",
    "import pandas as pd\n",
    "#Math :  for using mathematical formulas \n",
    "import math\n",
    "#Matplotlib: for representing data in graphical form\n",
    "import matplotlib.pyplot as plt\n",
    "#Seabord :\n",
    "import seaborn as sns\n",
    "sns.set_style('darkgrid')"
   ]
  },
  {
   "cell_type": "markdown",
   "id": "ec76e4fa",
   "metadata": {},
   "source": [
    "# Chapter 2 : Data Retrieval"
   ]
  },
  {
   "cell_type": "markdown",
   "id": "e0fefe82",
   "metadata": {},
   "source": [
    "Since dataset is in current directry, we are passing file name as it is."
   ]
  },
  {
   "cell_type": "code",
   "execution_count": 4,
   "id": "707bb9be",
   "metadata": {},
   "outputs": [],
   "source": [
    "furn_df=pd.read_excel('Office_Sales.xlsx')"
   ]
  },
  {
   "cell_type": "markdown",
   "id": "f0939e0f",
   "metadata": {},
   "source": [
    "### Converting Excel files to CSV (Comma Separated Values) format "
   ]
  },
  {
   "cell_type": "markdown",
   "id": "a0cdc797",
   "metadata": {},
   "source": [
    "Working with CSV file has several benefits such as simplicity, portability, compatiability, reduced file size, easier integration, data integration, etc. So, we will convert our file in csv before working with it."
   ]
  },
  {
   "cell_type": "code",
   "execution_count": 5,
   "id": "e1a398f2",
   "metadata": {},
   "outputs": [],
   "source": [
    "furn_df.to_csv('Furniture_sales_data_set.csv')"
   ]
  },
  {
   "cell_type": "code",
   "execution_count": 6,
   "id": "860a9f48",
   "metadata": {},
   "outputs": [],
   "source": [
    "# fdf stands for furniture data frame\n",
    "fdf = pd.DataFrame(furn_df)"
   ]
  },
  {
   "cell_type": "markdown",
   "id": "081d8eec",
   "metadata": {},
   "source": [
    "### Verfiying whether the data frame has been created or not"
   ]
  },
  {
   "cell_type": "code",
   "execution_count": 7,
   "id": "3f804b6a",
   "metadata": {},
   "outputs": [
    {
     "data": {
      "text/html": [
       "<div>\n",
       "<style scoped>\n",
       "    .dataframe tbody tr th:only-of-type {\n",
       "        vertical-align: middle;\n",
       "    }\n",
       "\n",
       "    .dataframe tbody tr th {\n",
       "        vertical-align: top;\n",
       "    }\n",
       "\n",
       "    .dataframe thead th {\n",
       "        text-align: right;\n",
       "    }\n",
       "</style>\n",
       "<table border=\"1\" class=\"dataframe\">\n",
       "  <thead>\n",
       "    <tr style=\"text-align: right;\">\n",
       "      <th></th>\n",
       "      <th>SalesOrderNumber</th>\n",
       "      <th>OrderDate</th>\n",
       "      <th>DeliveryDate</th>\n",
       "      <th>ShipMode</th>\n",
       "      <th>CustomerKey</th>\n",
       "      <th>ProductKey</th>\n",
       "      <th>CategoryName</th>\n",
       "      <th>SubcategoryName</th>\n",
       "      <th>ProductName</th>\n",
       "      <th>UnitPrice</th>\n",
       "      <th>OrderQuantity</th>\n",
       "      <th>Discount %</th>\n",
       "      <th>ShippingCost</th>\n",
       "      <th>OrderPriority</th>\n",
       "    </tr>\n",
       "  </thead>\n",
       "  <tbody>\n",
       "    <tr>\n",
       "      <th>0</th>\n",
       "      <td>IN-2017-47883</td>\n",
       "      <td>2017-01-01</td>\n",
       "      <td>2017-01-08</td>\n",
       "      <td>Standard Class</td>\n",
       "      <td>56</td>\n",
       "      <td>FUR-FU-10003447</td>\n",
       "      <td>Furniture</td>\n",
       "      <td>Furnishings</td>\n",
       "      <td>Eldon Light Bulb, Duo Pack</td>\n",
       "      <td>25.26</td>\n",
       "      <td>5</td>\n",
       "      <td>0.5</td>\n",
       "      <td>11.92</td>\n",
       "      <td>Medium</td>\n",
       "    </tr>\n",
       "    <tr>\n",
       "      <th>1</th>\n",
       "      <td>IZ-2017-4680</td>\n",
       "      <td>2017-01-03</td>\n",
       "      <td>2017-01-07</td>\n",
       "      <td>Standard Class</td>\n",
       "      <td>66</td>\n",
       "      <td>FUR-NOV-10002791</td>\n",
       "      <td>Furniture</td>\n",
       "      <td>Chairs</td>\n",
       "      <td>Novimex Swivel Stool, Set of Two</td>\n",
       "      <td>166.71</td>\n",
       "      <td>4</td>\n",
       "      <td>0.6</td>\n",
       "      <td>9.81</td>\n",
       "      <td>High</td>\n",
       "    </tr>\n",
       "    <tr>\n",
       "      <th>2</th>\n",
       "      <td>ID-2017-80230</td>\n",
       "      <td>2017-01-03</td>\n",
       "      <td>2017-01-09</td>\n",
       "      <td>Standard Class</td>\n",
       "      <td>64</td>\n",
       "      <td>FUR-CH-10000666</td>\n",
       "      <td>Furniture</td>\n",
       "      <td>Chairs</td>\n",
       "      <td>SAFCO Chairmat, Black</td>\n",
       "      <td>57.39</td>\n",
       "      <td>2</td>\n",
       "      <td>0.2</td>\n",
       "      <td>8.30</td>\n",
       "      <td>Low</td>\n",
       "    </tr>\n",
       "    <tr>\n",
       "      <th>3</th>\n",
       "      <td>ID-2017-80230</td>\n",
       "      <td>2017-01-03</td>\n",
       "      <td>2017-01-09</td>\n",
       "      <td>Standard Class</td>\n",
       "      <td>64</td>\n",
       "      <td>FUR-CH-10000214</td>\n",
       "      <td>Furniture</td>\n",
       "      <td>Chairs</td>\n",
       "      <td>Hon Rocking Chair, Set of Two</td>\n",
       "      <td>132.87</td>\n",
       "      <td>2</td>\n",
       "      <td>0.0</td>\n",
       "      <td>9.63</td>\n",
       "      <td>Low</td>\n",
       "    </tr>\n",
       "    <tr>\n",
       "      <th>4</th>\n",
       "      <td>ES-2017-4869686</td>\n",
       "      <td>2017-01-03</td>\n",
       "      <td>2017-01-07</td>\n",
       "      <td>Standard Class</td>\n",
       "      <td>63</td>\n",
       "      <td>FUR-BO-10000728</td>\n",
       "      <td>Furniture</td>\n",
       "      <td>Bookcases</td>\n",
       "      <td>Dania Corner Shelving, Traditional</td>\n",
       "      <td>122.07</td>\n",
       "      <td>7</td>\n",
       "      <td>0.6</td>\n",
       "      <td>12.56</td>\n",
       "      <td>Medium</td>\n",
       "    </tr>\n",
       "    <tr>\n",
       "      <th>...</th>\n",
       "      <td>...</td>\n",
       "      <td>...</td>\n",
       "      <td>...</td>\n",
       "      <td>...</td>\n",
       "      <td>...</td>\n",
       "      <td>...</td>\n",
       "      <td>...</td>\n",
       "      <td>...</td>\n",
       "      <td>...</td>\n",
       "      <td>...</td>\n",
       "      <td>...</td>\n",
       "      <td>...</td>\n",
       "      <td>...</td>\n",
       "      <td>...</td>\n",
       "    </tr>\n",
       "    <tr>\n",
       "      <th>29994</th>\n",
       "      <td>ID-2020-63864</td>\n",
       "      <td>2020-12-30</td>\n",
       "      <td>NaT</td>\n",
       "      <td>Standard Class</td>\n",
       "      <td>18820</td>\n",
       "      <td>OFF-SU-10002388</td>\n",
       "      <td>Office Supplies</td>\n",
       "      <td>Supplies</td>\n",
       "      <td>Elite Shears, Easy Grip</td>\n",
       "      <td>48.63</td>\n",
       "      <td>2</td>\n",
       "      <td>0.7</td>\n",
       "      <td>3.25</td>\n",
       "      <td>Medium</td>\n",
       "    </tr>\n",
       "    <tr>\n",
       "      <th>29995</th>\n",
       "      <td>PL-2020-1210</td>\n",
       "      <td>2020-12-30</td>\n",
       "      <td>NaT</td>\n",
       "      <td>Standard Class</td>\n",
       "      <td>18833</td>\n",
       "      <td>OFF-KLE-10001644</td>\n",
       "      <td>Office Supplies</td>\n",
       "      <td>Supplies</td>\n",
       "      <td>Kleencut Trimmer, Steel</td>\n",
       "      <td>40.83</td>\n",
       "      <td>6</td>\n",
       "      <td>0.0</td>\n",
       "      <td>34.18</td>\n",
       "      <td>Medium</td>\n",
       "    </tr>\n",
       "    <tr>\n",
       "      <th>29996</th>\n",
       "      <td>MX-2020-110527</td>\n",
       "      <td>2020-12-31</td>\n",
       "      <td>NaT</td>\n",
       "      <td>Second Class</td>\n",
       "      <td>18654</td>\n",
       "      <td>OFF-SU-10001624</td>\n",
       "      <td>Office Supplies</td>\n",
       "      <td>Supplies</td>\n",
       "      <td>Kleencut Ruler, High Speed</td>\n",
       "      <td>9.04</td>\n",
       "      <td>8</td>\n",
       "      <td>0.5</td>\n",
       "      <td>10.75</td>\n",
       "      <td>Medium</td>\n",
       "    </tr>\n",
       "    <tr>\n",
       "      <th>29997</th>\n",
       "      <td>ES-2020-2815584</td>\n",
       "      <td>2020-12-31</td>\n",
       "      <td>NaT</td>\n",
       "      <td>Standard Class</td>\n",
       "      <td>11154</td>\n",
       "      <td>OFF-SU-10004279</td>\n",
       "      <td>Office Supplies</td>\n",
       "      <td>Supplies</td>\n",
       "      <td>Kleencut Shears, Serrated</td>\n",
       "      <td>43.47</td>\n",
       "      <td>6</td>\n",
       "      <td>0.7</td>\n",
       "      <td>3.67</td>\n",
       "      <td>High</td>\n",
       "    </tr>\n",
       "    <tr>\n",
       "      <th>29998</th>\n",
       "      <td>IN-2020-75603</td>\n",
       "      <td>2020-12-31</td>\n",
       "      <td>NaT</td>\n",
       "      <td>Second Class</td>\n",
       "      <td>18846</td>\n",
       "      <td>OFF-SU-10001618</td>\n",
       "      <td>Office Supplies</td>\n",
       "      <td>Supplies</td>\n",
       "      <td>Kleencut Letter Opener, Easy Grip</td>\n",
       "      <td>28.68</td>\n",
       "      <td>9</td>\n",
       "      <td>0.8</td>\n",
       "      <td>14.20</td>\n",
       "      <td>Medium</td>\n",
       "    </tr>\n",
       "  </tbody>\n",
       "</table>\n",
       "<p>29999 rows × 14 columns</p>\n",
       "</div>"
      ],
      "text/plain": [
       "      SalesOrderNumber  OrderDate DeliveryDate        ShipMode  CustomerKey  \\\n",
       "0        IN-2017-47883 2017-01-01   2017-01-08  Standard Class           56   \n",
       "1         IZ-2017-4680 2017-01-03   2017-01-07  Standard Class           66   \n",
       "2        ID-2017-80230 2017-01-03   2017-01-09  Standard Class           64   \n",
       "3        ID-2017-80230 2017-01-03   2017-01-09  Standard Class           64   \n",
       "4      ES-2017-4869686 2017-01-03   2017-01-07  Standard Class           63   \n",
       "...                ...        ...          ...             ...          ...   \n",
       "29994    ID-2020-63864 2020-12-30          NaT  Standard Class        18820   \n",
       "29995     PL-2020-1210 2020-12-30          NaT  Standard Class        18833   \n",
       "29996   MX-2020-110527 2020-12-31          NaT    Second Class        18654   \n",
       "29997  ES-2020-2815584 2020-12-31          NaT  Standard Class        11154   \n",
       "29998    IN-2020-75603 2020-12-31          NaT    Second Class        18846   \n",
       "\n",
       "             ProductKey     CategoryName SubcategoryName  \\\n",
       "0       FUR-FU-10003447        Furniture     Furnishings   \n",
       "1      FUR-NOV-10002791        Furniture          Chairs   \n",
       "2       FUR-CH-10000666        Furniture          Chairs   \n",
       "3       FUR-CH-10000214        Furniture          Chairs   \n",
       "4       FUR-BO-10000728        Furniture       Bookcases   \n",
       "...                 ...              ...             ...   \n",
       "29994   OFF-SU-10002388  Office Supplies        Supplies   \n",
       "29995  OFF-KLE-10001644  Office Supplies        Supplies   \n",
       "29996   OFF-SU-10001624  Office Supplies        Supplies   \n",
       "29997   OFF-SU-10004279  Office Supplies        Supplies   \n",
       "29998   OFF-SU-10001618  Office Supplies        Supplies   \n",
       "\n",
       "                              ProductName  UnitPrice  OrderQuantity  \\\n",
       "0              Eldon Light Bulb, Duo Pack      25.26              5   \n",
       "1        Novimex Swivel Stool, Set of Two     166.71              4   \n",
       "2                   SAFCO Chairmat, Black      57.39              2   \n",
       "3           Hon Rocking Chair, Set of Two     132.87              2   \n",
       "4      Dania Corner Shelving, Traditional     122.07              7   \n",
       "...                                   ...        ...            ...   \n",
       "29994             Elite Shears, Easy Grip      48.63              2   \n",
       "29995             Kleencut Trimmer, Steel      40.83              6   \n",
       "29996          Kleencut Ruler, High Speed       9.04              8   \n",
       "29997           Kleencut Shears, Serrated      43.47              6   \n",
       "29998   Kleencut Letter Opener, Easy Grip      28.68              9   \n",
       "\n",
       "       Discount %  ShippingCost OrderPriority  \n",
       "0             0.5         11.92        Medium  \n",
       "1             0.6          9.81          High  \n",
       "2             0.2          8.30           Low  \n",
       "3             0.0          9.63           Low  \n",
       "4             0.6         12.56        Medium  \n",
       "...           ...           ...           ...  \n",
       "29994         0.7          3.25        Medium  \n",
       "29995         0.0         34.18        Medium  \n",
       "29996         0.5         10.75        Medium  \n",
       "29997         0.7          3.67          High  \n",
       "29998         0.8         14.20        Medium  \n",
       "\n",
       "[29999 rows x 14 columns]"
      ]
     },
     "execution_count": 7,
     "metadata": {},
     "output_type": "execute_result"
    }
   ],
   "source": [
    "fdf"
   ]
  },
  {
   "cell_type": "markdown",
   "id": "384f3026",
   "metadata": {},
   "source": [
    "### Description of dataset"
   ]
  },
  {
   "cell_type": "markdown",
   "id": "bbc5f789",
   "metadata": {},
   "source": [
    "##### The furniture sales dataset contains the following information for each of the 29,999 sales orders:\n",
    "\n",
    "`Sales order number:` This unique identifier ranges from IN-2017-47883 to PL-2020-1210.<br>\n",
    "`Order date:` This indicates the date the order was placed, ranging from 2017-01-03 to 2020-12-30.<br>\n",
    "`Delivery date:` This specifies the date the order was delivered, with some entries missing delivery dates (NaT).<br>\n",
    "`Ship mode:` This refers to the shipping method used, with \"Standard\" being the most frequent option.<br>\n",
    "`Customer key:` This seems to be a unique identifier for the customer who placed the order, ranging from 56 to 18859.<br>\n",
    "`Product key:` This likely identifies the specific product sold, ranging from FUR-FU-10003447 to OFF-KLE-10001644.<br>\n",
    "`Category name:` This broad category groups the product, such as \"Furniture\" or \"Office Supplies\".<br>\n",
    "`Subcategory name:` This provides more specific details about the product category, such as \"Furnishings\" or \"Chairs\".<br>\n",
    "`Product name:` This is the name of the product sold, like \"Eldon Light Bulb, Duo Pack\" or \"Novimex Swivel Stool. Set of Two\".<br>\n",
    "`Unit price:` This shows the price per unit of the product, ranging from $1.39 to $1889.99.<br>\n",
    "`Order quantity:` This specifies the number of units purchased in each order, ranging from 1 to 16.<br>"
   ]
  },
  {
   "cell_type": "markdown",
   "id": "1aaf6b0d",
   "metadata": {},
   "source": [
    "# Chapter 3:  Overview of furniture data set"
   ]
  },
  {
   "cell_type": "markdown",
   "id": "1ebde691",
   "metadata": {},
   "source": [
    "## Column name and the number of unique elements in that column"
   ]
  },
  {
   "cell_type": "code",
   "execution_count": 8,
   "id": "df9c2805",
   "metadata": {},
   "outputs": [
    {
     "data": {
      "text/plain": [
       "SalesOrderNumber    17801\n",
       "OrderDate            1406\n",
       "DeliveryDate         1455\n",
       "ShipMode                4\n",
       "CustomerKey         16874\n",
       "ProductKey           5963\n",
       "CategoryName            2\n",
       "SubcategoryName        10\n",
       "ProductName          2432\n",
       "UnitPrice            2796\n",
       "OrderQuantity          16\n",
       "Discount %              9\n",
       "ShippingCost        11144\n",
       "OrderPriority           4\n",
       "dtype: int64"
      ]
     },
     "execution_count": 8,
     "metadata": {},
     "output_type": "execute_result"
    }
   ],
   "source": [
    "pd.Series(fdf.nunique())"
   ]
  },
  {
   "cell_type": "markdown",
   "id": "0a5cbad2",
   "metadata": {},
   "source": [
    "## Overview of numerical column"
   ]
  },
  {
   "cell_type": "code",
   "execution_count": 9,
   "id": "349b0f6e",
   "metadata": {},
   "outputs": [
    {
     "data": {
      "text/html": [
       "<div>\n",
       "<style scoped>\n",
       "    .dataframe tbody tr th:only-of-type {\n",
       "        vertical-align: middle;\n",
       "    }\n",
       "\n",
       "    .dataframe tbody tr th {\n",
       "        vertical-align: top;\n",
       "    }\n",
       "\n",
       "    .dataframe thead th {\n",
       "        text-align: right;\n",
       "    }\n",
       "</style>\n",
       "<table border=\"1\" class=\"dataframe\">\n",
       "  <thead>\n",
       "    <tr style=\"text-align: right;\">\n",
       "      <th></th>\n",
       "      <th>CustomerKey</th>\n",
       "      <th>UnitPrice</th>\n",
       "      <th>OrderQuantity</th>\n",
       "      <th>Discount %</th>\n",
       "      <th>ShippingCost</th>\n",
       "    </tr>\n",
       "  </thead>\n",
       "  <tbody>\n",
       "    <tr>\n",
       "      <th>count</th>\n",
       "      <td>29999.000000</td>\n",
       "      <td>29999.000000</td>\n",
       "      <td>29999.000000</td>\n",
       "      <td>29999.000000</td>\n",
       "      <td>29999.000000</td>\n",
       "    </tr>\n",
       "    <tr>\n",
       "      <th>mean</th>\n",
       "      <td>9154.332778</td>\n",
       "      <td>79.367678</td>\n",
       "      <td>3.476916</td>\n",
       "      <td>0.393013</td>\n",
       "      <td>30.353239</td>\n",
       "    </tr>\n",
       "    <tr>\n",
       "      <th>std</th>\n",
       "      <td>5412.576391</td>\n",
       "      <td>121.566872</td>\n",
       "      <td>2.284369</td>\n",
       "      <td>0.259108</td>\n",
       "      <td>68.112116</td>\n",
       "    </tr>\n",
       "    <tr>\n",
       "      <th>min</th>\n",
       "      <td>56.000000</td>\n",
       "      <td>1.390000</td>\n",
       "      <td>1.000000</td>\n",
       "      <td>0.000000</td>\n",
       "      <td>0.002000</td>\n",
       "    </tr>\n",
       "    <tr>\n",
       "      <th>25%</th>\n",
       "      <td>4424.000000</td>\n",
       "      <td>15.750000</td>\n",
       "      <td>2.000000</td>\n",
       "      <td>0.200000</td>\n",
       "      <td>3.630000</td>\n",
       "    </tr>\n",
       "    <tr>\n",
       "      <th>50%</th>\n",
       "      <td>9043.000000</td>\n",
       "      <td>33.560000</td>\n",
       "      <td>3.000000</td>\n",
       "      <td>0.400000</td>\n",
       "      <td>9.509000</td>\n",
       "    </tr>\n",
       "    <tr>\n",
       "      <th>75%</th>\n",
       "      <td>13784.000000</td>\n",
       "      <td>82.230000</td>\n",
       "      <td>5.000000</td>\n",
       "      <td>0.600000</td>\n",
       "      <td>27.211500</td>\n",
       "    </tr>\n",
       "    <tr>\n",
       "      <th>max</th>\n",
       "      <td>18859.000000</td>\n",
       "      <td>1889.990000</td>\n",
       "      <td>16.000000</td>\n",
       "      <td>0.800000</td>\n",
       "      <td>1581.510000</td>\n",
       "    </tr>\n",
       "  </tbody>\n",
       "</table>\n",
       "</div>"
      ],
      "text/plain": [
       "        CustomerKey     UnitPrice  OrderQuantity    Discount %  ShippingCost\n",
       "count  29999.000000  29999.000000   29999.000000  29999.000000  29999.000000\n",
       "mean    9154.332778     79.367678       3.476916      0.393013     30.353239\n",
       "std     5412.576391    121.566872       2.284369      0.259108     68.112116\n",
       "min       56.000000      1.390000       1.000000      0.000000      0.002000\n",
       "25%     4424.000000     15.750000       2.000000      0.200000      3.630000\n",
       "50%     9043.000000     33.560000       3.000000      0.400000      9.509000\n",
       "75%    13784.000000     82.230000       5.000000      0.600000     27.211500\n",
       "max    18859.000000   1889.990000      16.000000      0.800000   1581.510000"
      ]
     },
     "execution_count": 9,
     "metadata": {},
     "output_type": "execute_result"
    }
   ],
   "source": [
    "fdf.describe()"
   ]
  },
  {
   "cell_type": "markdown",
   "id": "def1d32e",
   "metadata": {},
   "source": [
    "##  The Available Shipping Modes, Furniture Categories, Furniture Sub Categories, Products, Discount Rates, and Priority types in the data set"
   ]
  },
  {
   "cell_type": "markdown",
   "id": "8b0be4dc",
   "metadata": {},
   "source": [
    "### `Shipping Modes`"
   ]
  },
  {
   "cell_type": "code",
   "execution_count": 10,
   "id": "a3854dcc",
   "metadata": {
    "scrolled": true
   },
   "outputs": [
    {
     "data": {
      "text/plain": [
       "0    Standard Class\n",
       "1      Second Class\n",
       "2       First Class\n",
       "3          Same Day\n",
       "dtype: object"
      ]
     },
     "execution_count": 10,
     "metadata": {},
     "output_type": "execute_result"
    }
   ],
   "source": [
    "shippingmode=pd.Series(fdf['ShipMode'].unique())\n",
    "shippingmode"
   ]
  },
  {
   "cell_type": "markdown",
   "id": "16d6a483",
   "metadata": {},
   "source": [
    "### `Furniture Categories`"
   ]
  },
  {
   "cell_type": "code",
   "execution_count": 11,
   "id": "139218fb",
   "metadata": {},
   "outputs": [
    {
     "data": {
      "text/plain": [
       "0          Furniture\n",
       "1    Office Supplies\n",
       "dtype: object"
      ]
     },
     "execution_count": 11,
     "metadata": {},
     "output_type": "execute_result"
    }
   ],
   "source": [
    "furn_categories=pd.Series(fdf['CategoryName'].unique())\n",
    "furn_categories"
   ]
  },
  {
   "cell_type": "markdown",
   "id": "6aba1830",
   "metadata": {},
   "source": [
    "### `Furniture Sub Categories`"
   ]
  },
  {
   "cell_type": "code",
   "execution_count": 12,
   "id": "c8a0d3d1",
   "metadata": {},
   "outputs": [
    {
     "data": {
      "text/plain": [
       "0    Furnishings\n",
       "1         Chairs\n",
       "2      Bookcases\n",
       "3         Tables\n",
       "4     Appliances\n",
       "5            Art\n",
       "6        Binders\n",
       "7          Paper\n",
       "8        Storage\n",
       "9       Supplies\n",
       "dtype: object"
      ]
     },
     "execution_count": 12,
     "metadata": {},
     "output_type": "execute_result"
    }
   ],
   "source": [
    "furn_sub_categories=pd.Series(fdf['SubcategoryName'].unique())\n",
    "furn_sub_categories"
   ]
  },
  {
   "cell_type": "markdown",
   "id": "3afb54fb",
   "metadata": {},
   "source": [
    "### `Products`"
   ]
  },
  {
   "cell_type": "code",
   "execution_count": 13,
   "id": "ab93602c",
   "metadata": {},
   "outputs": [
    {
     "data": {
      "text/plain": [
       "0                              Eldon Light Bulb, Duo Pack\n",
       "1                        Novimex Swivel Stool, Set of Two\n",
       "2                                   SAFCO Chairmat, Black\n",
       "3                           Hon Rocking Chair, Set of Two\n",
       "4                      Dania Corner Shelving, Traditional\n",
       "                              ...                        \n",
       "2427                          Kleencut Shears, High Speed\n",
       "2428              Acme Preferred Stainless Steel Scissors\n",
       "2429                                       Letter Slitter\n",
       "2430    Kleencut Forged Office Shears by Acme United C...\n",
       "2431                  Acme Kleencut Forged Steel Scissors\n",
       "Length: 2432, dtype: object"
      ]
     },
     "execution_count": 13,
     "metadata": {},
     "output_type": "execute_result"
    }
   ],
   "source": [
    "products=pd.Series(fdf['ProductName'].unique())\n",
    "products"
   ]
  },
  {
   "cell_type": "markdown",
   "id": "58f1b492",
   "metadata": {},
   "source": [
    "#### There are total  2432 products in furniture data set"
   ]
  },
  {
   "cell_type": "markdown",
   "id": "286b48b7",
   "metadata": {},
   "source": [
    "### `Discount Rates`"
   ]
  },
  {
   "cell_type": "code",
   "execution_count": 14,
   "id": "c5ca0c06",
   "metadata": {
    "scrolled": true
   },
   "outputs": [
    {
     "data": {
      "text/plain": [
       "0    0.5\n",
       "1    0.6\n",
       "2    0.2\n",
       "3    0.0\n",
       "4    0.7\n",
       "5    0.8\n",
       "6    0.3\n",
       "7    0.4\n",
       "8    0.1\n",
       "dtype: float64"
      ]
     },
     "execution_count": 14,
     "metadata": {},
     "output_type": "execute_result"
    }
   ],
   "source": [
    "dsct_rates=pd.Series(fdf['Discount %'].unique())\n",
    "dsct_rates"
   ]
  },
  {
   "cell_type": "markdown",
   "id": "6826c4c0",
   "metadata": {},
   "source": [
    "### `Priority Types`"
   ]
  },
  {
   "cell_type": "code",
   "execution_count": 15,
   "id": "453d90d1",
   "metadata": {},
   "outputs": [
    {
     "data": {
      "text/plain": [
       "0      Medium\n",
       "1        High\n",
       "2         Low\n",
       "3    Critical\n",
       "dtype: object"
      ]
     },
     "execution_count": 15,
     "metadata": {},
     "output_type": "execute_result"
    }
   ],
   "source": [
    "order_priority=pd.Series(fdf['OrderPriority'].unique())\n",
    "order_priority"
   ]
  },
  {
   "cell_type": "markdown",
   "id": "207384f1",
   "metadata": {},
   "source": [
    "# Chapter 3: Data Cleansing "
   ]
  },
  {
   "cell_type": "markdown",
   "id": "2863416b",
   "metadata": {},
   "source": [
    "## Removing Missing Values"
   ]
  },
  {
   "cell_type": "code",
   "execution_count": 58,
   "id": "e40d1831",
   "metadata": {},
   "outputs": [
    {
     "data": {
      "text/plain": [
       "SalesOrderNumber    0\n",
       "OrderDate           0\n",
       "DeliveryDate        0\n",
       "ShipMode            0\n",
       "CustomerKey         0\n",
       "ProductKey          0\n",
       "CategoryName        0\n",
       "SubcategoryName     0\n",
       "ProductName         0\n",
       "UnitPrice           0\n",
       "OrderQuantity       0\n",
       "Discount %          0\n",
       "ShippingCost        0\n",
       "OrderPriority       0\n",
       "year                0\n",
       "month               0\n",
       "day                 0\n",
       "weekday             0\n",
       "totalsales          0\n",
       "dtype: int64"
      ]
     },
     "execution_count": 58,
     "metadata": {},
     "output_type": "execute_result"
    }
   ],
   "source": [
    "missing_values_count = fdf.isna().sum()\n",
    "missing_values_count"
   ]
  },
  {
   "cell_type": "markdown",
   "id": "95418f94",
   "metadata": {},
   "source": [
    "### We can see that there are 170 missing values in DeliveryDate column. To handle missing dates we have following options:\n",
    "* Use a Default Date\n",
    "* Use the Most Frequent Date\n",
    "* Use Forward or Backward Fill\n",
    "* Interpolate Dates\n",
    "* Drop Missing Dates\n",
    "* Use Domain Knowledge"
   ]
  },
  {
   "cell_type": "markdown",
   "id": "882785ec",
   "metadata": {},
   "source": [
    "##### For tracking undelivered records we can separated them and store in a different file."
   ]
  },
  {
   "cell_type": "markdown",
   "id": "63723f8d",
   "metadata": {},
   "source": [
    "### Separating records of Undelivered Orders and Saving them in a different file"
   ]
  },
  {
   "cell_type": "code",
   "execution_count": 17,
   "id": "b23e2836",
   "metadata": {},
   "outputs": [
    {
     "data": {
      "text/html": [
       "<div>\n",
       "<style scoped>\n",
       "    .dataframe tbody tr th:only-of-type {\n",
       "        vertical-align: middle;\n",
       "    }\n",
       "\n",
       "    .dataframe tbody tr th {\n",
       "        vertical-align: top;\n",
       "    }\n",
       "\n",
       "    .dataframe thead th {\n",
       "        text-align: right;\n",
       "    }\n",
       "</style>\n",
       "<table border=\"1\" class=\"dataframe\">\n",
       "  <thead>\n",
       "    <tr style=\"text-align: right;\">\n",
       "      <th></th>\n",
       "      <th>SalesOrderNumber</th>\n",
       "      <th>OrderDate</th>\n",
       "      <th>DeliveryDate</th>\n",
       "      <th>ShipMode</th>\n",
       "      <th>CustomerKey</th>\n",
       "      <th>ProductKey</th>\n",
       "      <th>CategoryName</th>\n",
       "      <th>SubcategoryName</th>\n",
       "      <th>ProductName</th>\n",
       "      <th>UnitPrice</th>\n",
       "      <th>OrderQuantity</th>\n",
       "      <th>Discount %</th>\n",
       "      <th>ShippingCost</th>\n",
       "      <th>OrderPriority</th>\n",
       "    </tr>\n",
       "  </thead>\n",
       "  <tbody>\n",
       "    <tr>\n",
       "      <th>8489</th>\n",
       "      <td>CA-2020-128734</td>\n",
       "      <td>2020-12-25</td>\n",
       "      <td>NaT</td>\n",
       "      <td>Standard Class</td>\n",
       "      <td>18679</td>\n",
       "      <td>FUR-CH-10001394</td>\n",
       "      <td>Furniture</td>\n",
       "      <td>Chairs</td>\n",
       "      <td>Global Leather Executive Chair</td>\n",
       "      <td>350.99</td>\n",
       "      <td>3</td>\n",
       "      <td>0.8</td>\n",
       "      <td>29.83</td>\n",
       "      <td>Medium</td>\n",
       "    </tr>\n",
       "    <tr>\n",
       "      <th>8490</th>\n",
       "      <td>CA-2020-128734</td>\n",
       "      <td>2020-12-25</td>\n",
       "      <td>NaT</td>\n",
       "      <td>Standard Class</td>\n",
       "      <td>18679</td>\n",
       "      <td>FUR-FU-10001731</td>\n",
       "      <td>Furniture</td>\n",
       "      <td>Furnishings</td>\n",
       "      <td>Acrylic Self-Standing Desk Frames</td>\n",
       "      <td>2.67</td>\n",
       "      <td>4</td>\n",
       "      <td>0.8</td>\n",
       "      <td>15.57</td>\n",
       "      <td>Medium</td>\n",
       "    </tr>\n",
       "    <tr>\n",
       "      <th>8491</th>\n",
       "      <td>AG-2020-2280</td>\n",
       "      <td>2020-12-25</td>\n",
       "      <td>NaT</td>\n",
       "      <td>Standard Class</td>\n",
       "      <td>18705</td>\n",
       "      <td>FUR-SAU-10000893</td>\n",
       "      <td>Furniture</td>\n",
       "      <td>Bookcases</td>\n",
       "      <td>Sauder Stackable Bookrack, Mobile</td>\n",
       "      <td>146.82</td>\n",
       "      <td>2</td>\n",
       "      <td>0.7</td>\n",
       "      <td>26.91</td>\n",
       "      <td>Medium</td>\n",
       "    </tr>\n",
       "    <tr>\n",
       "      <th>8494</th>\n",
       "      <td>AG-2020-2280</td>\n",
       "      <td>2020-12-25</td>\n",
       "      <td>NaT</td>\n",
       "      <td>Standard Class</td>\n",
       "      <td>18705</td>\n",
       "      <td>FUR-SAF-10002121</td>\n",
       "      <td>Furniture</td>\n",
       "      <td>Chairs</td>\n",
       "      <td>SAFCO Rocking Chair, Black</td>\n",
       "      <td>132.48</td>\n",
       "      <td>2</td>\n",
       "      <td>0.2</td>\n",
       "      <td>1.03</td>\n",
       "      <td>Medium</td>\n",
       "    </tr>\n",
       "    <tr>\n",
       "      <th>8506</th>\n",
       "      <td>IT-2020-4907444</td>\n",
       "      <td>2020-12-26</td>\n",
       "      <td>NaT</td>\n",
       "      <td>Standard Class</td>\n",
       "      <td>18731</td>\n",
       "      <td>FUR-CH-10000214</td>\n",
       "      <td>Furniture</td>\n",
       "      <td>Chairs</td>\n",
       "      <td>Harbour Creations Bag Chairs, Black</td>\n",
       "      <td>59.19</td>\n",
       "      <td>1</td>\n",
       "      <td>0.8</td>\n",
       "      <td>4.01</td>\n",
       "      <td>Low</td>\n",
       "    </tr>\n",
       "    <tr>\n",
       "      <th>...</th>\n",
       "      <td>...</td>\n",
       "      <td>...</td>\n",
       "      <td>...</td>\n",
       "      <td>...</td>\n",
       "      <td>...</td>\n",
       "      <td>...</td>\n",
       "      <td>...</td>\n",
       "      <td>...</td>\n",
       "      <td>...</td>\n",
       "      <td>...</td>\n",
       "      <td>...</td>\n",
       "      <td>...</td>\n",
       "      <td>...</td>\n",
       "      <td>...</td>\n",
       "    </tr>\n",
       "    <tr>\n",
       "      <th>29994</th>\n",
       "      <td>ID-2020-63864</td>\n",
       "      <td>2020-12-30</td>\n",
       "      <td>NaT</td>\n",
       "      <td>Standard Class</td>\n",
       "      <td>18820</td>\n",
       "      <td>OFF-SU-10002388</td>\n",
       "      <td>Office Supplies</td>\n",
       "      <td>Supplies</td>\n",
       "      <td>Elite Shears, Easy Grip</td>\n",
       "      <td>48.63</td>\n",
       "      <td>2</td>\n",
       "      <td>0.7</td>\n",
       "      <td>3.25</td>\n",
       "      <td>Medium</td>\n",
       "    </tr>\n",
       "    <tr>\n",
       "      <th>29995</th>\n",
       "      <td>PL-2020-1210</td>\n",
       "      <td>2020-12-30</td>\n",
       "      <td>NaT</td>\n",
       "      <td>Standard Class</td>\n",
       "      <td>18833</td>\n",
       "      <td>OFF-KLE-10001644</td>\n",
       "      <td>Office Supplies</td>\n",
       "      <td>Supplies</td>\n",
       "      <td>Kleencut Trimmer, Steel</td>\n",
       "      <td>40.83</td>\n",
       "      <td>6</td>\n",
       "      <td>0.0</td>\n",
       "      <td>34.18</td>\n",
       "      <td>Medium</td>\n",
       "    </tr>\n",
       "    <tr>\n",
       "      <th>29996</th>\n",
       "      <td>MX-2020-110527</td>\n",
       "      <td>2020-12-31</td>\n",
       "      <td>NaT</td>\n",
       "      <td>Second Class</td>\n",
       "      <td>18654</td>\n",
       "      <td>OFF-SU-10001624</td>\n",
       "      <td>Office Supplies</td>\n",
       "      <td>Supplies</td>\n",
       "      <td>Kleencut Ruler, High Speed</td>\n",
       "      <td>9.04</td>\n",
       "      <td>8</td>\n",
       "      <td>0.5</td>\n",
       "      <td>10.75</td>\n",
       "      <td>Medium</td>\n",
       "    </tr>\n",
       "    <tr>\n",
       "      <th>29997</th>\n",
       "      <td>ES-2020-2815584</td>\n",
       "      <td>2020-12-31</td>\n",
       "      <td>NaT</td>\n",
       "      <td>Standard Class</td>\n",
       "      <td>11154</td>\n",
       "      <td>OFF-SU-10004279</td>\n",
       "      <td>Office Supplies</td>\n",
       "      <td>Supplies</td>\n",
       "      <td>Kleencut Shears, Serrated</td>\n",
       "      <td>43.47</td>\n",
       "      <td>6</td>\n",
       "      <td>0.7</td>\n",
       "      <td>3.67</td>\n",
       "      <td>High</td>\n",
       "    </tr>\n",
       "    <tr>\n",
       "      <th>29998</th>\n",
       "      <td>IN-2020-75603</td>\n",
       "      <td>2020-12-31</td>\n",
       "      <td>NaT</td>\n",
       "      <td>Second Class</td>\n",
       "      <td>18846</td>\n",
       "      <td>OFF-SU-10001618</td>\n",
       "      <td>Office Supplies</td>\n",
       "      <td>Supplies</td>\n",
       "      <td>Kleencut Letter Opener, Easy Grip</td>\n",
       "      <td>28.68</td>\n",
       "      <td>9</td>\n",
       "      <td>0.8</td>\n",
       "      <td>14.20</td>\n",
       "      <td>Medium</td>\n",
       "    </tr>\n",
       "  </tbody>\n",
       "</table>\n",
       "<p>170 rows × 14 columns</p>\n",
       "</div>"
      ],
      "text/plain": [
       "      SalesOrderNumber  OrderDate DeliveryDate        ShipMode  CustomerKey  \\\n",
       "8489    CA-2020-128734 2020-12-25          NaT  Standard Class        18679   \n",
       "8490    CA-2020-128734 2020-12-25          NaT  Standard Class        18679   \n",
       "8491      AG-2020-2280 2020-12-25          NaT  Standard Class        18705   \n",
       "8494      AG-2020-2280 2020-12-25          NaT  Standard Class        18705   \n",
       "8506   IT-2020-4907444 2020-12-26          NaT  Standard Class        18731   \n",
       "...                ...        ...          ...             ...          ...   \n",
       "29994    ID-2020-63864 2020-12-30          NaT  Standard Class        18820   \n",
       "29995     PL-2020-1210 2020-12-30          NaT  Standard Class        18833   \n",
       "29996   MX-2020-110527 2020-12-31          NaT    Second Class        18654   \n",
       "29997  ES-2020-2815584 2020-12-31          NaT  Standard Class        11154   \n",
       "29998    IN-2020-75603 2020-12-31          NaT    Second Class        18846   \n",
       "\n",
       "             ProductKey     CategoryName SubcategoryName  \\\n",
       "8489    FUR-CH-10001394        Furniture          Chairs   \n",
       "8490    FUR-FU-10001731        Furniture     Furnishings   \n",
       "8491   FUR-SAU-10000893        Furniture       Bookcases   \n",
       "8494   FUR-SAF-10002121        Furniture          Chairs   \n",
       "8506    FUR-CH-10000214        Furniture          Chairs   \n",
       "...                 ...              ...             ...   \n",
       "29994   OFF-SU-10002388  Office Supplies        Supplies   \n",
       "29995  OFF-KLE-10001644  Office Supplies        Supplies   \n",
       "29996   OFF-SU-10001624  Office Supplies        Supplies   \n",
       "29997   OFF-SU-10004279  Office Supplies        Supplies   \n",
       "29998   OFF-SU-10001618  Office Supplies        Supplies   \n",
       "\n",
       "                               ProductName  UnitPrice  OrderQuantity  \\\n",
       "8489        Global Leather Executive Chair     350.99              3   \n",
       "8490     Acrylic Self-Standing Desk Frames       2.67              4   \n",
       "8491     Sauder Stackable Bookrack, Mobile     146.82              2   \n",
       "8494            SAFCO Rocking Chair, Black     132.48              2   \n",
       "8506   Harbour Creations Bag Chairs, Black      59.19              1   \n",
       "...                                    ...        ...            ...   \n",
       "29994              Elite Shears, Easy Grip      48.63              2   \n",
       "29995              Kleencut Trimmer, Steel      40.83              6   \n",
       "29996           Kleencut Ruler, High Speed       9.04              8   \n",
       "29997            Kleencut Shears, Serrated      43.47              6   \n",
       "29998    Kleencut Letter Opener, Easy Grip      28.68              9   \n",
       "\n",
       "       Discount %  ShippingCost OrderPriority  \n",
       "8489          0.8         29.83        Medium  \n",
       "8490          0.8         15.57        Medium  \n",
       "8491          0.7         26.91        Medium  \n",
       "8494          0.2          1.03        Medium  \n",
       "8506          0.8          4.01           Low  \n",
       "...           ...           ...           ...  \n",
       "29994         0.7          3.25        Medium  \n",
       "29995         0.0         34.18        Medium  \n",
       "29996         0.5         10.75        Medium  \n",
       "29997         0.7          3.67          High  \n",
       "29998         0.8         14.20        Medium  \n",
       "\n",
       "[170 rows x 14 columns]"
      ]
     },
     "execution_count": 17,
     "metadata": {},
     "output_type": "execute_result"
    }
   ],
   "source": [
    "#Separating \n",
    "Undelivered_orders = fdf[fdf.isnull().any(axis=1)]\n",
    "Undelivered_orders.to_excel('undelivered_orders.xlsx')\n",
    "#View of these records\n",
    "Undelivered_orders"
   ]
  },
  {
   "cell_type": "markdown",
   "id": "55a2320a",
   "metadata": {},
   "source": [
    "### Setting DeliveryDate cell 'In-Process' for Undelivered Orders or Missing Values Cells"
   ]
  },
  {
   "cell_type": "code",
   "execution_count": 18,
   "id": "747e0888",
   "metadata": {},
   "outputs": [],
   "source": [
    "fdf['DeliveryDate'] = fdf['DeliveryDate'].fillna('In-Process')        "
   ]
  },
  {
   "cell_type": "code",
   "execution_count": 19,
   "id": "c385f207",
   "metadata": {},
   "outputs": [
    {
     "data": {
      "text/html": [
       "<div>\n",
       "<style scoped>\n",
       "    .dataframe tbody tr th:only-of-type {\n",
       "        vertical-align: middle;\n",
       "    }\n",
       "\n",
       "    .dataframe tbody tr th {\n",
       "        vertical-align: top;\n",
       "    }\n",
       "\n",
       "    .dataframe thead th {\n",
       "        text-align: right;\n",
       "    }\n",
       "</style>\n",
       "<table border=\"1\" class=\"dataframe\">\n",
       "  <thead>\n",
       "    <tr style=\"text-align: right;\">\n",
       "      <th></th>\n",
       "      <th>SalesOrderNumber</th>\n",
       "      <th>OrderDate</th>\n",
       "      <th>DeliveryDate</th>\n",
       "      <th>ShipMode</th>\n",
       "      <th>CustomerKey</th>\n",
       "      <th>ProductKey</th>\n",
       "      <th>CategoryName</th>\n",
       "      <th>SubcategoryName</th>\n",
       "      <th>ProductName</th>\n",
       "      <th>UnitPrice</th>\n",
       "      <th>OrderQuantity</th>\n",
       "      <th>Discount %</th>\n",
       "      <th>ShippingCost</th>\n",
       "      <th>OrderPriority</th>\n",
       "    </tr>\n",
       "  </thead>\n",
       "  <tbody>\n",
       "    <tr>\n",
       "      <th>0</th>\n",
       "      <td>IN-2017-47883</td>\n",
       "      <td>2017-01-01</td>\n",
       "      <td>2017-01-08 00:00:00</td>\n",
       "      <td>Standard Class</td>\n",
       "      <td>56</td>\n",
       "      <td>FUR-FU-10003447</td>\n",
       "      <td>Furniture</td>\n",
       "      <td>Furnishings</td>\n",
       "      <td>Eldon Light Bulb, Duo Pack</td>\n",
       "      <td>25.26</td>\n",
       "      <td>5</td>\n",
       "      <td>0.5</td>\n",
       "      <td>11.92</td>\n",
       "      <td>Medium</td>\n",
       "    </tr>\n",
       "    <tr>\n",
       "      <th>1</th>\n",
       "      <td>IZ-2017-4680</td>\n",
       "      <td>2017-01-03</td>\n",
       "      <td>2017-01-07 00:00:00</td>\n",
       "      <td>Standard Class</td>\n",
       "      <td>66</td>\n",
       "      <td>FUR-NOV-10002791</td>\n",
       "      <td>Furniture</td>\n",
       "      <td>Chairs</td>\n",
       "      <td>Novimex Swivel Stool, Set of Two</td>\n",
       "      <td>166.71</td>\n",
       "      <td>4</td>\n",
       "      <td>0.6</td>\n",
       "      <td>9.81</td>\n",
       "      <td>High</td>\n",
       "    </tr>\n",
       "    <tr>\n",
       "      <th>2</th>\n",
       "      <td>ID-2017-80230</td>\n",
       "      <td>2017-01-03</td>\n",
       "      <td>2017-01-09 00:00:00</td>\n",
       "      <td>Standard Class</td>\n",
       "      <td>64</td>\n",
       "      <td>FUR-CH-10000666</td>\n",
       "      <td>Furniture</td>\n",
       "      <td>Chairs</td>\n",
       "      <td>SAFCO Chairmat, Black</td>\n",
       "      <td>57.39</td>\n",
       "      <td>2</td>\n",
       "      <td>0.2</td>\n",
       "      <td>8.30</td>\n",
       "      <td>Low</td>\n",
       "    </tr>\n",
       "    <tr>\n",
       "      <th>3</th>\n",
       "      <td>ID-2017-80230</td>\n",
       "      <td>2017-01-03</td>\n",
       "      <td>2017-01-09 00:00:00</td>\n",
       "      <td>Standard Class</td>\n",
       "      <td>64</td>\n",
       "      <td>FUR-CH-10000214</td>\n",
       "      <td>Furniture</td>\n",
       "      <td>Chairs</td>\n",
       "      <td>Hon Rocking Chair, Set of Two</td>\n",
       "      <td>132.87</td>\n",
       "      <td>2</td>\n",
       "      <td>0.0</td>\n",
       "      <td>9.63</td>\n",
       "      <td>Low</td>\n",
       "    </tr>\n",
       "    <tr>\n",
       "      <th>4</th>\n",
       "      <td>ES-2017-4869686</td>\n",
       "      <td>2017-01-03</td>\n",
       "      <td>2017-01-07 00:00:00</td>\n",
       "      <td>Standard Class</td>\n",
       "      <td>63</td>\n",
       "      <td>FUR-BO-10000728</td>\n",
       "      <td>Furniture</td>\n",
       "      <td>Bookcases</td>\n",
       "      <td>Dania Corner Shelving, Traditional</td>\n",
       "      <td>122.07</td>\n",
       "      <td>7</td>\n",
       "      <td>0.6</td>\n",
       "      <td>12.56</td>\n",
       "      <td>Medium</td>\n",
       "    </tr>\n",
       "    <tr>\n",
       "      <th>...</th>\n",
       "      <td>...</td>\n",
       "      <td>...</td>\n",
       "      <td>...</td>\n",
       "      <td>...</td>\n",
       "      <td>...</td>\n",
       "      <td>...</td>\n",
       "      <td>...</td>\n",
       "      <td>...</td>\n",
       "      <td>...</td>\n",
       "      <td>...</td>\n",
       "      <td>...</td>\n",
       "      <td>...</td>\n",
       "      <td>...</td>\n",
       "      <td>...</td>\n",
       "    </tr>\n",
       "    <tr>\n",
       "      <th>29994</th>\n",
       "      <td>ID-2020-63864</td>\n",
       "      <td>2020-12-30</td>\n",
       "      <td>In-Process</td>\n",
       "      <td>Standard Class</td>\n",
       "      <td>18820</td>\n",
       "      <td>OFF-SU-10002388</td>\n",
       "      <td>Office Supplies</td>\n",
       "      <td>Supplies</td>\n",
       "      <td>Elite Shears, Easy Grip</td>\n",
       "      <td>48.63</td>\n",
       "      <td>2</td>\n",
       "      <td>0.7</td>\n",
       "      <td>3.25</td>\n",
       "      <td>Medium</td>\n",
       "    </tr>\n",
       "    <tr>\n",
       "      <th>29995</th>\n",
       "      <td>PL-2020-1210</td>\n",
       "      <td>2020-12-30</td>\n",
       "      <td>In-Process</td>\n",
       "      <td>Standard Class</td>\n",
       "      <td>18833</td>\n",
       "      <td>OFF-KLE-10001644</td>\n",
       "      <td>Office Supplies</td>\n",
       "      <td>Supplies</td>\n",
       "      <td>Kleencut Trimmer, Steel</td>\n",
       "      <td>40.83</td>\n",
       "      <td>6</td>\n",
       "      <td>0.0</td>\n",
       "      <td>34.18</td>\n",
       "      <td>Medium</td>\n",
       "    </tr>\n",
       "    <tr>\n",
       "      <th>29996</th>\n",
       "      <td>MX-2020-110527</td>\n",
       "      <td>2020-12-31</td>\n",
       "      <td>In-Process</td>\n",
       "      <td>Second Class</td>\n",
       "      <td>18654</td>\n",
       "      <td>OFF-SU-10001624</td>\n",
       "      <td>Office Supplies</td>\n",
       "      <td>Supplies</td>\n",
       "      <td>Kleencut Ruler, High Speed</td>\n",
       "      <td>9.04</td>\n",
       "      <td>8</td>\n",
       "      <td>0.5</td>\n",
       "      <td>10.75</td>\n",
       "      <td>Medium</td>\n",
       "    </tr>\n",
       "    <tr>\n",
       "      <th>29997</th>\n",
       "      <td>ES-2020-2815584</td>\n",
       "      <td>2020-12-31</td>\n",
       "      <td>In-Process</td>\n",
       "      <td>Standard Class</td>\n",
       "      <td>11154</td>\n",
       "      <td>OFF-SU-10004279</td>\n",
       "      <td>Office Supplies</td>\n",
       "      <td>Supplies</td>\n",
       "      <td>Kleencut Shears, Serrated</td>\n",
       "      <td>43.47</td>\n",
       "      <td>6</td>\n",
       "      <td>0.7</td>\n",
       "      <td>3.67</td>\n",
       "      <td>High</td>\n",
       "    </tr>\n",
       "    <tr>\n",
       "      <th>29998</th>\n",
       "      <td>IN-2020-75603</td>\n",
       "      <td>2020-12-31</td>\n",
       "      <td>In-Process</td>\n",
       "      <td>Second Class</td>\n",
       "      <td>18846</td>\n",
       "      <td>OFF-SU-10001618</td>\n",
       "      <td>Office Supplies</td>\n",
       "      <td>Supplies</td>\n",
       "      <td>Kleencut Letter Opener, Easy Grip</td>\n",
       "      <td>28.68</td>\n",
       "      <td>9</td>\n",
       "      <td>0.8</td>\n",
       "      <td>14.20</td>\n",
       "      <td>Medium</td>\n",
       "    </tr>\n",
       "  </tbody>\n",
       "</table>\n",
       "<p>29999 rows × 14 columns</p>\n",
       "</div>"
      ],
      "text/plain": [
       "      SalesOrderNumber  OrderDate         DeliveryDate        ShipMode  \\\n",
       "0        IN-2017-47883 2017-01-01  2017-01-08 00:00:00  Standard Class   \n",
       "1         IZ-2017-4680 2017-01-03  2017-01-07 00:00:00  Standard Class   \n",
       "2        ID-2017-80230 2017-01-03  2017-01-09 00:00:00  Standard Class   \n",
       "3        ID-2017-80230 2017-01-03  2017-01-09 00:00:00  Standard Class   \n",
       "4      ES-2017-4869686 2017-01-03  2017-01-07 00:00:00  Standard Class   \n",
       "...                ...        ...                  ...             ...   \n",
       "29994    ID-2020-63864 2020-12-30           In-Process  Standard Class   \n",
       "29995     PL-2020-1210 2020-12-30           In-Process  Standard Class   \n",
       "29996   MX-2020-110527 2020-12-31           In-Process    Second Class   \n",
       "29997  ES-2020-2815584 2020-12-31           In-Process  Standard Class   \n",
       "29998    IN-2020-75603 2020-12-31           In-Process    Second Class   \n",
       "\n",
       "       CustomerKey        ProductKey     CategoryName SubcategoryName  \\\n",
       "0               56   FUR-FU-10003447        Furniture     Furnishings   \n",
       "1               66  FUR-NOV-10002791        Furniture          Chairs   \n",
       "2               64   FUR-CH-10000666        Furniture          Chairs   \n",
       "3               64   FUR-CH-10000214        Furniture          Chairs   \n",
       "4               63   FUR-BO-10000728        Furniture       Bookcases   \n",
       "...            ...               ...              ...             ...   \n",
       "29994        18820   OFF-SU-10002388  Office Supplies        Supplies   \n",
       "29995        18833  OFF-KLE-10001644  Office Supplies        Supplies   \n",
       "29996        18654   OFF-SU-10001624  Office Supplies        Supplies   \n",
       "29997        11154   OFF-SU-10004279  Office Supplies        Supplies   \n",
       "29998        18846   OFF-SU-10001618  Office Supplies        Supplies   \n",
       "\n",
       "                              ProductName  UnitPrice  OrderQuantity  \\\n",
       "0              Eldon Light Bulb, Duo Pack      25.26              5   \n",
       "1        Novimex Swivel Stool, Set of Two     166.71              4   \n",
       "2                   SAFCO Chairmat, Black      57.39              2   \n",
       "3           Hon Rocking Chair, Set of Two     132.87              2   \n",
       "4      Dania Corner Shelving, Traditional     122.07              7   \n",
       "...                                   ...        ...            ...   \n",
       "29994             Elite Shears, Easy Grip      48.63              2   \n",
       "29995             Kleencut Trimmer, Steel      40.83              6   \n",
       "29996          Kleencut Ruler, High Speed       9.04              8   \n",
       "29997           Kleencut Shears, Serrated      43.47              6   \n",
       "29998   Kleencut Letter Opener, Easy Grip      28.68              9   \n",
       "\n",
       "       Discount %  ShippingCost OrderPriority  \n",
       "0             0.5         11.92        Medium  \n",
       "1             0.6          9.81          High  \n",
       "2             0.2          8.30           Low  \n",
       "3             0.0          9.63           Low  \n",
       "4             0.6         12.56        Medium  \n",
       "...           ...           ...           ...  \n",
       "29994         0.7          3.25        Medium  \n",
       "29995         0.0         34.18        Medium  \n",
       "29996         0.5         10.75        Medium  \n",
       "29997         0.7          3.67          High  \n",
       "29998         0.8         14.20        Medium  \n",
       "\n",
       "[29999 rows x 14 columns]"
      ]
     },
     "execution_count": 19,
     "metadata": {},
     "output_type": "execute_result"
    }
   ],
   "source": [
    "fdf"
   ]
  },
  {
   "cell_type": "markdown",
   "id": "2411c361",
   "metadata": {},
   "source": [
    "### Verifying if there are anymore missing values"
   ]
  },
  {
   "cell_type": "code",
   "execution_count": 20,
   "id": "c7fd0757",
   "metadata": {},
   "outputs": [
    {
     "data": {
      "text/plain": [
       "SalesOrderNumber    0\n",
       "OrderDate           0\n",
       "DeliveryDate        0\n",
       "ShipMode            0\n",
       "CustomerKey         0\n",
       "ProductKey          0\n",
       "CategoryName        0\n",
       "SubcategoryName     0\n",
       "ProductName         0\n",
       "UnitPrice           0\n",
       "OrderQuantity       0\n",
       "Discount %          0\n",
       "ShippingCost        0\n",
       "OrderPriority       0\n",
       "dtype: int64"
      ]
     },
     "execution_count": 20,
     "metadata": {},
     "output_type": "execute_result"
    }
   ],
   "source": [
    "missing_values_count = fdf.isna().sum()\n",
    "missing_values_count"
   ]
  },
  {
   "cell_type": "markdown",
   "id": "b5b56d66",
   "metadata": {},
   "source": [
    "`It's evident that we no longer have any missing values. Moving forward, our next project phase entails visualizing the furniture dataset.`"
   ]
  },
  {
   "cell_type": "markdown",
   "id": "614b052c",
   "metadata": {},
   "source": [
    "# Chapter 4: Exploration of parameters and elements across data set"
   ]
  },
  {
   "cell_type": "markdown",
   "id": "6bd2565a",
   "metadata": {},
   "source": [
    "###  Price range for different furniture categories"
   ]
  },
  {
   "cell_type": "code",
   "execution_count": 21,
   "id": "d752ed6c",
   "metadata": {},
   "outputs": [
    {
     "data": {
      "text/html": [
       "<div>\n",
       "<style scoped>\n",
       "    .dataframe tbody tr th:only-of-type {\n",
       "        vertical-align: middle;\n",
       "    }\n",
       "\n",
       "    .dataframe tbody tr th {\n",
       "        vertical-align: top;\n",
       "    }\n",
       "\n",
       "    .dataframe thead th {\n",
       "        text-align: right;\n",
       "    }\n",
       "</style>\n",
       "<table border=\"1\" class=\"dataframe\">\n",
       "  <thead>\n",
       "    <tr style=\"text-align: right;\">\n",
       "      <th></th>\n",
       "      <th>Furniture</th>\n",
       "      <th>Office Supplies</th>\n",
       "    </tr>\n",
       "  </thead>\n",
       "  <tbody>\n",
       "    <tr>\n",
       "      <th>Min Price</th>\n",
       "      <td>1.74</td>\n",
       "      <td>1.39</td>\n",
       "    </tr>\n",
       "    <tr>\n",
       "      <th>Max Price</th>\n",
       "      <td>925.23</td>\n",
       "      <td>1889.99</td>\n",
       "    </tr>\n",
       "  </tbody>\n",
       "</table>\n",
       "</div>"
      ],
      "text/plain": [
       "           Furniture  Office Supplies\n",
       "Min Price       1.74             1.39\n",
       "Max Price     925.23          1889.99"
      ]
     },
     "execution_count": 21,
     "metadata": {},
     "output_type": "execute_result"
    }
   ],
   "source": [
    "sub_fdf1 = fdf[['CategoryName','UnitPrice']]\n",
    "Category_types = sub_fdf1.CategoryName.unique()\n",
    "price_range = pd.DataFrame(index=['Min Price','Max Price'])\n",
    "for cat_type in Category_types:\n",
    "    min_price=sub_fdf1[sub_fdf1['CategoryName']==cat_type]['UnitPrice'].min()\n",
    "    max_price=sub_fdf1[sub_fdf1['CategoryName']==cat_type]['UnitPrice'].max()\n",
    "    price_range[cat_type] =  (min_price,max_price)\n",
    "price_range       "
   ]
  },
  {
   "cell_type": "markdown",
   "id": "48777a48",
   "metadata": {},
   "source": [
    "### Price range for different furniture sub categories"
   ]
  },
  {
   "cell_type": "code",
   "execution_count": 22,
   "id": "6d08d709",
   "metadata": {},
   "outputs": [
    {
     "data": {
      "text/html": [
       "<div>\n",
       "<style scoped>\n",
       "    .dataframe tbody tr th:only-of-type {\n",
       "        vertical-align: middle;\n",
       "    }\n",
       "\n",
       "    .dataframe tbody tr th {\n",
       "        vertical-align: top;\n",
       "    }\n",
       "\n",
       "    .dataframe thead th {\n",
       "        text-align: right;\n",
       "    }\n",
       "</style>\n",
       "<table border=\"1\" class=\"dataframe\">\n",
       "  <thead>\n",
       "    <tr style=\"text-align: right;\">\n",
       "      <th></th>\n",
       "      <th>Furnishings</th>\n",
       "      <th>Chairs</th>\n",
       "      <th>Bookcases</th>\n",
       "      <th>Tables</th>\n",
       "      <th>Appliances</th>\n",
       "      <th>Art</th>\n",
       "      <th>Binders</th>\n",
       "      <th>Paper</th>\n",
       "      <th>Storage</th>\n",
       "      <th>Supplies</th>\n",
       "    </tr>\n",
       "  </thead>\n",
       "  <tbody>\n",
       "    <tr>\n",
       "      <th>Min Price</th>\n",
       "      <td>1.74</td>\n",
       "      <td>25.98</td>\n",
       "      <td>30.98</td>\n",
       "      <td>15.23</td>\n",
       "      <td>2.22</td>\n",
       "      <td>1.39</td>\n",
       "      <td>1.68</td>\n",
       "      <td>2.18</td>\n",
       "      <td>2.98</td>\n",
       "      <td>2.08</td>\n",
       "    </tr>\n",
       "    <tr>\n",
       "      <th>Max Price</th>\n",
       "      <td>209.84</td>\n",
       "      <td>700.98</td>\n",
       "      <td>880.98</td>\n",
       "      <td>925.23</td>\n",
       "      <td>1052.16</td>\n",
       "      <td>173.91</td>\n",
       "      <td>1889.99</td>\n",
       "      <td>115.60</td>\n",
       "      <td>647.89</td>\n",
       "      <td>1637.53</td>\n",
       "    </tr>\n",
       "  </tbody>\n",
       "</table>\n",
       "</div>"
      ],
      "text/plain": [
       "           Furnishings  Chairs  Bookcases  Tables  Appliances     Art  \\\n",
       "Min Price         1.74   25.98      30.98   15.23        2.22    1.39   \n",
       "Max Price       209.84  700.98     880.98  925.23     1052.16  173.91   \n",
       "\n",
       "           Binders   Paper  Storage  Supplies  \n",
       "Min Price     1.68    2.18     2.98      2.08  \n",
       "Max Price  1889.99  115.60   647.89   1637.53  "
      ]
     },
     "execution_count": 22,
     "metadata": {},
     "output_type": "execute_result"
    }
   ],
   "source": [
    "sub_fdf2 = fdf[['SubcategoryName','UnitPrice']]\n",
    "Sub_Category_types = sub_fdf2.SubcategoryName.unique()\n",
    "price_range_sub_cat = pd.DataFrame(index=['Min Price','Max Price'])\n",
    "for cat_type in Sub_Category_types:\n",
    "    min_price=sub_fdf2[sub_fdf2['SubcategoryName']==cat_type]['UnitPrice'].min()\n",
    "    max_price=sub_fdf2[sub_fdf2['SubcategoryName']==cat_type]['UnitPrice'].max()\n",
    "    price_range_sub_cat[cat_type] =  (min_price,max_price)\n",
    "price_range_sub_cat"
   ]
  },
  {
   "cell_type": "markdown",
   "id": "142c5a3c",
   "metadata": {},
   "source": [
    "### Range of Sales Quantity for different furniture categories"
   ]
  },
  {
   "cell_type": "code",
   "execution_count": 23,
   "id": "7767bacc",
   "metadata": {},
   "outputs": [
    {
     "data": {
      "text/html": [
       "<div>\n",
       "<style scoped>\n",
       "    .dataframe tbody tr th:only-of-type {\n",
       "        vertical-align: middle;\n",
       "    }\n",
       "\n",
       "    .dataframe tbody tr th {\n",
       "        vertical-align: top;\n",
       "    }\n",
       "\n",
       "    .dataframe thead th {\n",
       "        text-align: right;\n",
       "    }\n",
       "</style>\n",
       "<table border=\"1\" class=\"dataframe\">\n",
       "  <thead>\n",
       "    <tr style=\"text-align: right;\">\n",
       "      <th></th>\n",
       "      <th>Furniture</th>\n",
       "      <th>Office Supplies</th>\n",
       "    </tr>\n",
       "  </thead>\n",
       "  <tbody>\n",
       "    <tr>\n",
       "      <th>min_qty</th>\n",
       "      <td>1</td>\n",
       "      <td>1</td>\n",
       "    </tr>\n",
       "    <tr>\n",
       "      <th>max_qty</th>\n",
       "      <td>14</td>\n",
       "      <td>16</td>\n",
       "    </tr>\n",
       "  </tbody>\n",
       "</table>\n",
       "</div>"
      ],
      "text/plain": [
       "         Furniture  Office Supplies\n",
       "min_qty          1                1\n",
       "max_qty         14               16"
      ]
     },
     "execution_count": 23,
     "metadata": {},
     "output_type": "execute_result"
    }
   ],
   "source": [
    "sub_fdf3 = fdf[['CategoryName','OrderQuantity']]\n",
    "Category_types = sub_fdf3.CategoryName.unique()\n",
    "Category_qty_range = pd.DataFrame(index=['min_qty','max_qty'])\n",
    "for cat_type in Category_types:\n",
    "    min_qty=sub_fdf3[sub_fdf3['CategoryName']==cat_type]['OrderQuantity'].min()\n",
    "    max_qty=sub_fdf3[sub_fdf3['CategoryName']==cat_type]['OrderQuantity'].max()\n",
    "    Category_qty_range[cat_type] =  (min_qty,max_qty)\n",
    "Category_qty_range       "
   ]
  },
  {
   "cell_type": "markdown",
   "id": "d6cf597f",
   "metadata": {},
   "source": [
    "### Range of Sales Quantity for different Sub furniture categories"
   ]
  },
  {
   "cell_type": "code",
   "execution_count": 24,
   "id": "9898848b",
   "metadata": {},
   "outputs": [
    {
     "data": {
      "text/html": [
       "<div>\n",
       "<style scoped>\n",
       "    .dataframe tbody tr th:only-of-type {\n",
       "        vertical-align: middle;\n",
       "    }\n",
       "\n",
       "    .dataframe tbody tr th {\n",
       "        vertical-align: top;\n",
       "    }\n",
       "\n",
       "    .dataframe thead th {\n",
       "        text-align: right;\n",
       "    }\n",
       "</style>\n",
       "<table border=\"1\" class=\"dataframe\">\n",
       "  <thead>\n",
       "    <tr style=\"text-align: right;\">\n",
       "      <th></th>\n",
       "      <th>Furnishings</th>\n",
       "      <th>Chairs</th>\n",
       "      <th>Bookcases</th>\n",
       "      <th>Tables</th>\n",
       "      <th>Appliances</th>\n",
       "      <th>Art</th>\n",
       "      <th>Binders</th>\n",
       "      <th>Paper</th>\n",
       "      <th>Storage</th>\n",
       "      <th>Supplies</th>\n",
       "    </tr>\n",
       "  </thead>\n",
       "  <tbody>\n",
       "    <tr>\n",
       "      <th>min_qty</th>\n",
       "      <td>1</td>\n",
       "      <td>1</td>\n",
       "      <td>1</td>\n",
       "      <td>1</td>\n",
       "      <td>1</td>\n",
       "      <td>1</td>\n",
       "      <td>1</td>\n",
       "      <td>1</td>\n",
       "      <td>1</td>\n",
       "      <td>1</td>\n",
       "    </tr>\n",
       "    <tr>\n",
       "      <th>min_qty</th>\n",
       "      <td>14</td>\n",
       "      <td>14</td>\n",
       "      <td>14</td>\n",
       "      <td>13</td>\n",
       "      <td>14</td>\n",
       "      <td>15</td>\n",
       "      <td>15</td>\n",
       "      <td>16</td>\n",
       "      <td>14</td>\n",
       "      <td>14</td>\n",
       "    </tr>\n",
       "  </tbody>\n",
       "</table>\n",
       "</div>"
      ],
      "text/plain": [
       "         Furnishings  Chairs  Bookcases  Tables  Appliances  Art  Binders  \\\n",
       "min_qty            1       1          1       1           1    1        1   \n",
       "min_qty           14      14         14      13          14   15       15   \n",
       "\n",
       "         Paper  Storage  Supplies  \n",
       "min_qty      1        1         1  \n",
       "min_qty     16       14        14  "
      ]
     },
     "execution_count": 24,
     "metadata": {},
     "output_type": "execute_result"
    }
   ],
   "source": [
    "sub_fdf3 = fdf[['SubcategoryName','OrderQuantity']]\n",
    "Category_types = sub_fdf3.SubcategoryName.unique()\n",
    "Sub_category_qty_range = pd.DataFrame(index=['min_qty','min_qty'])\n",
    "for cat_type in Category_types:\n",
    "    min_qty=sub_fdf3[sub_fdf3['SubcategoryName']==cat_type]['OrderQuantity'].min()\n",
    "    max_qty=sub_fdf3[sub_fdf3['SubcategoryName']==cat_type]['OrderQuantity'].max()\n",
    "    Sub_category_qty_range[cat_type] =  (min_qty,max_qty)\n",
    "Sub_category_qty_range       "
   ]
  },
  {
   "cell_type": "markdown",
   "id": "3042d724",
   "metadata": {},
   "source": [
    "### Total sales quanitity of  different furniture categories yearly, monthly, weekly, day-wise"
   ]
  },
  {
   "cell_type": "code",
   "execution_count": 25,
   "id": "825e18a7",
   "metadata": {},
   "outputs": [
    {
     "data": {
      "text/html": [
       "<div>\n",
       "<style scoped>\n",
       "    .dataframe tbody tr th:only-of-type {\n",
       "        vertical-align: middle;\n",
       "    }\n",
       "\n",
       "    .dataframe tbody tr th {\n",
       "        vertical-align: top;\n",
       "    }\n",
       "\n",
       "    .dataframe thead th {\n",
       "        text-align: right;\n",
       "    }\n",
       "</style>\n",
       "<table border=\"1\" class=\"dataframe\">\n",
       "  <thead>\n",
       "    <tr style=\"text-align: right;\">\n",
       "      <th></th>\n",
       "      <th>SalesOrderNumber</th>\n",
       "      <th>OrderDate</th>\n",
       "      <th>DeliveryDate</th>\n",
       "      <th>ShipMode</th>\n",
       "      <th>CustomerKey</th>\n",
       "      <th>ProductKey</th>\n",
       "      <th>CategoryName</th>\n",
       "      <th>SubcategoryName</th>\n",
       "      <th>ProductName</th>\n",
       "      <th>UnitPrice</th>\n",
       "      <th>OrderQuantity</th>\n",
       "      <th>Discount %</th>\n",
       "      <th>ShippingCost</th>\n",
       "      <th>OrderPriority</th>\n",
       "      <th>year</th>\n",
       "      <th>month</th>\n",
       "      <th>day</th>\n",
       "      <th>weekday</th>\n",
       "    </tr>\n",
       "  </thead>\n",
       "  <tbody>\n",
       "    <tr>\n",
       "      <th>0</th>\n",
       "      <td>IN-2017-47883</td>\n",
       "      <td>2017-01-01</td>\n",
       "      <td>2017-01-08 00:00:00</td>\n",
       "      <td>Standard Class</td>\n",
       "      <td>56</td>\n",
       "      <td>FUR-FU-10003447</td>\n",
       "      <td>Furniture</td>\n",
       "      <td>Furnishings</td>\n",
       "      <td>Eldon Light Bulb, Duo Pack</td>\n",
       "      <td>25.26</td>\n",
       "      <td>5</td>\n",
       "      <td>0.5</td>\n",
       "      <td>11.92</td>\n",
       "      <td>Medium</td>\n",
       "      <td>2017</td>\n",
       "      <td>1</td>\n",
       "      <td>1</td>\n",
       "      <td>6</td>\n",
       "    </tr>\n",
       "    <tr>\n",
       "      <th>1</th>\n",
       "      <td>IZ-2017-4680</td>\n",
       "      <td>2017-01-03</td>\n",
       "      <td>2017-01-07 00:00:00</td>\n",
       "      <td>Standard Class</td>\n",
       "      <td>66</td>\n",
       "      <td>FUR-NOV-10002791</td>\n",
       "      <td>Furniture</td>\n",
       "      <td>Chairs</td>\n",
       "      <td>Novimex Swivel Stool, Set of Two</td>\n",
       "      <td>166.71</td>\n",
       "      <td>4</td>\n",
       "      <td>0.6</td>\n",
       "      <td>9.81</td>\n",
       "      <td>High</td>\n",
       "      <td>2017</td>\n",
       "      <td>1</td>\n",
       "      <td>3</td>\n",
       "      <td>1</td>\n",
       "    </tr>\n",
       "    <tr>\n",
       "      <th>2</th>\n",
       "      <td>ID-2017-80230</td>\n",
       "      <td>2017-01-03</td>\n",
       "      <td>2017-01-09 00:00:00</td>\n",
       "      <td>Standard Class</td>\n",
       "      <td>64</td>\n",
       "      <td>FUR-CH-10000666</td>\n",
       "      <td>Furniture</td>\n",
       "      <td>Chairs</td>\n",
       "      <td>SAFCO Chairmat, Black</td>\n",
       "      <td>57.39</td>\n",
       "      <td>2</td>\n",
       "      <td>0.2</td>\n",
       "      <td>8.30</td>\n",
       "      <td>Low</td>\n",
       "      <td>2017</td>\n",
       "      <td>1</td>\n",
       "      <td>3</td>\n",
       "      <td>1</td>\n",
       "    </tr>\n",
       "    <tr>\n",
       "      <th>3</th>\n",
       "      <td>ID-2017-80230</td>\n",
       "      <td>2017-01-03</td>\n",
       "      <td>2017-01-09 00:00:00</td>\n",
       "      <td>Standard Class</td>\n",
       "      <td>64</td>\n",
       "      <td>FUR-CH-10000214</td>\n",
       "      <td>Furniture</td>\n",
       "      <td>Chairs</td>\n",
       "      <td>Hon Rocking Chair, Set of Two</td>\n",
       "      <td>132.87</td>\n",
       "      <td>2</td>\n",
       "      <td>0.0</td>\n",
       "      <td>9.63</td>\n",
       "      <td>Low</td>\n",
       "      <td>2017</td>\n",
       "      <td>1</td>\n",
       "      <td>3</td>\n",
       "      <td>1</td>\n",
       "    </tr>\n",
       "    <tr>\n",
       "      <th>4</th>\n",
       "      <td>ES-2017-4869686</td>\n",
       "      <td>2017-01-03</td>\n",
       "      <td>2017-01-07 00:00:00</td>\n",
       "      <td>Standard Class</td>\n",
       "      <td>63</td>\n",
       "      <td>FUR-BO-10000728</td>\n",
       "      <td>Furniture</td>\n",
       "      <td>Bookcases</td>\n",
       "      <td>Dania Corner Shelving, Traditional</td>\n",
       "      <td>122.07</td>\n",
       "      <td>7</td>\n",
       "      <td>0.6</td>\n",
       "      <td>12.56</td>\n",
       "      <td>Medium</td>\n",
       "      <td>2017</td>\n",
       "      <td>1</td>\n",
       "      <td>3</td>\n",
       "      <td>1</td>\n",
       "    </tr>\n",
       "    <tr>\n",
       "      <th>...</th>\n",
       "      <td>...</td>\n",
       "      <td>...</td>\n",
       "      <td>...</td>\n",
       "      <td>...</td>\n",
       "      <td>...</td>\n",
       "      <td>...</td>\n",
       "      <td>...</td>\n",
       "      <td>...</td>\n",
       "      <td>...</td>\n",
       "      <td>...</td>\n",
       "      <td>...</td>\n",
       "      <td>...</td>\n",
       "      <td>...</td>\n",
       "      <td>...</td>\n",
       "      <td>...</td>\n",
       "      <td>...</td>\n",
       "      <td>...</td>\n",
       "      <td>...</td>\n",
       "    </tr>\n",
       "    <tr>\n",
       "      <th>29994</th>\n",
       "      <td>ID-2020-63864</td>\n",
       "      <td>2020-12-30</td>\n",
       "      <td>In-Process</td>\n",
       "      <td>Standard Class</td>\n",
       "      <td>18820</td>\n",
       "      <td>OFF-SU-10002388</td>\n",
       "      <td>Office Supplies</td>\n",
       "      <td>Supplies</td>\n",
       "      <td>Elite Shears, Easy Grip</td>\n",
       "      <td>48.63</td>\n",
       "      <td>2</td>\n",
       "      <td>0.7</td>\n",
       "      <td>3.25</td>\n",
       "      <td>Medium</td>\n",
       "      <td>2020</td>\n",
       "      <td>12</td>\n",
       "      <td>30</td>\n",
       "      <td>2</td>\n",
       "    </tr>\n",
       "    <tr>\n",
       "      <th>29995</th>\n",
       "      <td>PL-2020-1210</td>\n",
       "      <td>2020-12-30</td>\n",
       "      <td>In-Process</td>\n",
       "      <td>Standard Class</td>\n",
       "      <td>18833</td>\n",
       "      <td>OFF-KLE-10001644</td>\n",
       "      <td>Office Supplies</td>\n",
       "      <td>Supplies</td>\n",
       "      <td>Kleencut Trimmer, Steel</td>\n",
       "      <td>40.83</td>\n",
       "      <td>6</td>\n",
       "      <td>0.0</td>\n",
       "      <td>34.18</td>\n",
       "      <td>Medium</td>\n",
       "      <td>2020</td>\n",
       "      <td>12</td>\n",
       "      <td>30</td>\n",
       "      <td>2</td>\n",
       "    </tr>\n",
       "    <tr>\n",
       "      <th>29996</th>\n",
       "      <td>MX-2020-110527</td>\n",
       "      <td>2020-12-31</td>\n",
       "      <td>In-Process</td>\n",
       "      <td>Second Class</td>\n",
       "      <td>18654</td>\n",
       "      <td>OFF-SU-10001624</td>\n",
       "      <td>Office Supplies</td>\n",
       "      <td>Supplies</td>\n",
       "      <td>Kleencut Ruler, High Speed</td>\n",
       "      <td>9.04</td>\n",
       "      <td>8</td>\n",
       "      <td>0.5</td>\n",
       "      <td>10.75</td>\n",
       "      <td>Medium</td>\n",
       "      <td>2020</td>\n",
       "      <td>12</td>\n",
       "      <td>31</td>\n",
       "      <td>3</td>\n",
       "    </tr>\n",
       "    <tr>\n",
       "      <th>29997</th>\n",
       "      <td>ES-2020-2815584</td>\n",
       "      <td>2020-12-31</td>\n",
       "      <td>In-Process</td>\n",
       "      <td>Standard Class</td>\n",
       "      <td>11154</td>\n",
       "      <td>OFF-SU-10004279</td>\n",
       "      <td>Office Supplies</td>\n",
       "      <td>Supplies</td>\n",
       "      <td>Kleencut Shears, Serrated</td>\n",
       "      <td>43.47</td>\n",
       "      <td>6</td>\n",
       "      <td>0.7</td>\n",
       "      <td>3.67</td>\n",
       "      <td>High</td>\n",
       "      <td>2020</td>\n",
       "      <td>12</td>\n",
       "      <td>31</td>\n",
       "      <td>3</td>\n",
       "    </tr>\n",
       "    <tr>\n",
       "      <th>29998</th>\n",
       "      <td>IN-2020-75603</td>\n",
       "      <td>2020-12-31</td>\n",
       "      <td>In-Process</td>\n",
       "      <td>Second Class</td>\n",
       "      <td>18846</td>\n",
       "      <td>OFF-SU-10001618</td>\n",
       "      <td>Office Supplies</td>\n",
       "      <td>Supplies</td>\n",
       "      <td>Kleencut Letter Opener, Easy Grip</td>\n",
       "      <td>28.68</td>\n",
       "      <td>9</td>\n",
       "      <td>0.8</td>\n",
       "      <td>14.20</td>\n",
       "      <td>Medium</td>\n",
       "      <td>2020</td>\n",
       "      <td>12</td>\n",
       "      <td>31</td>\n",
       "      <td>3</td>\n",
       "    </tr>\n",
       "  </tbody>\n",
       "</table>\n",
       "<p>29999 rows × 18 columns</p>\n",
       "</div>"
      ],
      "text/plain": [
       "      SalesOrderNumber  OrderDate         DeliveryDate        ShipMode  \\\n",
       "0        IN-2017-47883 2017-01-01  2017-01-08 00:00:00  Standard Class   \n",
       "1         IZ-2017-4680 2017-01-03  2017-01-07 00:00:00  Standard Class   \n",
       "2        ID-2017-80230 2017-01-03  2017-01-09 00:00:00  Standard Class   \n",
       "3        ID-2017-80230 2017-01-03  2017-01-09 00:00:00  Standard Class   \n",
       "4      ES-2017-4869686 2017-01-03  2017-01-07 00:00:00  Standard Class   \n",
       "...                ...        ...                  ...             ...   \n",
       "29994    ID-2020-63864 2020-12-30           In-Process  Standard Class   \n",
       "29995     PL-2020-1210 2020-12-30           In-Process  Standard Class   \n",
       "29996   MX-2020-110527 2020-12-31           In-Process    Second Class   \n",
       "29997  ES-2020-2815584 2020-12-31           In-Process  Standard Class   \n",
       "29998    IN-2020-75603 2020-12-31           In-Process    Second Class   \n",
       "\n",
       "       CustomerKey        ProductKey     CategoryName SubcategoryName  \\\n",
       "0               56   FUR-FU-10003447        Furniture     Furnishings   \n",
       "1               66  FUR-NOV-10002791        Furniture          Chairs   \n",
       "2               64   FUR-CH-10000666        Furniture          Chairs   \n",
       "3               64   FUR-CH-10000214        Furniture          Chairs   \n",
       "4               63   FUR-BO-10000728        Furniture       Bookcases   \n",
       "...            ...               ...              ...             ...   \n",
       "29994        18820   OFF-SU-10002388  Office Supplies        Supplies   \n",
       "29995        18833  OFF-KLE-10001644  Office Supplies        Supplies   \n",
       "29996        18654   OFF-SU-10001624  Office Supplies        Supplies   \n",
       "29997        11154   OFF-SU-10004279  Office Supplies        Supplies   \n",
       "29998        18846   OFF-SU-10001618  Office Supplies        Supplies   \n",
       "\n",
       "                              ProductName  UnitPrice  OrderQuantity  \\\n",
       "0              Eldon Light Bulb, Duo Pack      25.26              5   \n",
       "1        Novimex Swivel Stool, Set of Two     166.71              4   \n",
       "2                   SAFCO Chairmat, Black      57.39              2   \n",
       "3           Hon Rocking Chair, Set of Two     132.87              2   \n",
       "4      Dania Corner Shelving, Traditional     122.07              7   \n",
       "...                                   ...        ...            ...   \n",
       "29994             Elite Shears, Easy Grip      48.63              2   \n",
       "29995             Kleencut Trimmer, Steel      40.83              6   \n",
       "29996          Kleencut Ruler, High Speed       9.04              8   \n",
       "29997           Kleencut Shears, Serrated      43.47              6   \n",
       "29998   Kleencut Letter Opener, Easy Grip      28.68              9   \n",
       "\n",
       "       Discount %  ShippingCost OrderPriority  year  month  day  weekday  \n",
       "0             0.5         11.92        Medium  2017      1    1        6  \n",
       "1             0.6          9.81          High  2017      1    3        1  \n",
       "2             0.2          8.30           Low  2017      1    3        1  \n",
       "3             0.0          9.63           Low  2017      1    3        1  \n",
       "4             0.6         12.56        Medium  2017      1    3        1  \n",
       "...           ...           ...           ...   ...    ...  ...      ...  \n",
       "29994         0.7          3.25        Medium  2020     12   30        2  \n",
       "29995         0.0         34.18        Medium  2020     12   30        2  \n",
       "29996         0.5         10.75        Medium  2020     12   31        3  \n",
       "29997         0.7          3.67          High  2020     12   31        3  \n",
       "29998         0.8         14.20        Medium  2020     12   31        3  \n",
       "\n",
       "[29999 rows x 18 columns]"
      ]
     },
     "execution_count": 25,
     "metadata": {},
     "output_type": "execute_result"
    }
   ],
   "source": [
    "#Adding Year Column\n",
    "fdf['OrderDate'] = pd.to_datetime(fdf.OrderDate)\n",
    "fdf['year'] = pd.DatetimeIndex(fdf.OrderDate).year\n",
    "fdf['month'] = pd.DatetimeIndex(fdf.OrderDate).month\n",
    "fdf['day'] = pd.DatetimeIndex(fdf.OrderDate).day\n",
    "fdf['weekday'] = pd.DatetimeIndex(fdf.OrderDate).weekday\n",
    "fdf"
   ]
  },
  {
   "cell_type": "markdown",
   "id": "93376a85",
   "metadata": {},
   "source": [
    "### Range of Sales Quantity for different furniture categories"
   ]
  },
  {
   "cell_type": "code",
   "execution_count": 26,
   "id": "d1898daf",
   "metadata": {},
   "outputs": [
    {
     "data": {
      "text/html": [
       "<div>\n",
       "<style scoped>\n",
       "    .dataframe tbody tr th:only-of-type {\n",
       "        vertical-align: middle;\n",
       "    }\n",
       "\n",
       "    .dataframe tbody tr th {\n",
       "        vertical-align: top;\n",
       "    }\n",
       "\n",
       "    .dataframe thead th {\n",
       "        text-align: right;\n",
       "    }\n",
       "</style>\n",
       "<table border=\"1\" class=\"dataframe\">\n",
       "  <thead>\n",
       "    <tr style=\"text-align: right;\">\n",
       "      <th></th>\n",
       "      <th>Furniture</th>\n",
       "      <th>Office Supplies</th>\n",
       "    </tr>\n",
       "  </thead>\n",
       "  <tbody>\n",
       "    <tr>\n",
       "      <th>2017</th>\n",
       "      <td>5448</td>\n",
       "      <td>13195</td>\n",
       "    </tr>\n",
       "    <tr>\n",
       "      <th>2018</th>\n",
       "      <td>6307</td>\n",
       "      <td>15881</td>\n",
       "    </tr>\n",
       "    <tr>\n",
       "      <th>2019</th>\n",
       "      <td>8413</td>\n",
       "      <td>19827</td>\n",
       "    </tr>\n",
       "    <tr>\n",
       "      <th>2020</th>\n",
       "      <td>10169</td>\n",
       "      <td>25064</td>\n",
       "    </tr>\n",
       "  </tbody>\n",
       "</table>\n",
       "</div>"
      ],
      "text/plain": [
       "     Furniture Office Supplies\n",
       "2017      5448           13195\n",
       "2018      6307           15881\n",
       "2019      8413           19827\n",
       "2020     10169           25064"
      ]
     },
     "execution_count": 26,
     "metadata": {},
     "output_type": "execute_result"
    }
   ],
   "source": [
    "import pandas as pd\n",
    "\n",
    "Category_types = fdf['CategoryName'].unique()\n",
    "years = fdf['year'].unique()\n",
    "\n",
    "yearly_sales_qty = pd.DataFrame(index=years, columns=Category_types)\n",
    "\n",
    "for cat_type in Category_types:\n",
    "    for year in years:\n",
    "        total_sales = fdf[(fdf['year'] == year) & (fdf['CategoryName'] == cat_type)]['OrderQuantity'].sum()\n",
    "        yearly_sales_qty.loc[year, cat_type] = total_sales\n",
    "\n",
    "yearly_sales_qty"
   ]
  },
  {
   "cell_type": "markdown",
   "id": "92b62bdb",
   "metadata": {},
   "source": [
    "### Range of Sales Quantity for different sub furniture categories"
   ]
  },
  {
   "cell_type": "code",
   "execution_count": 40,
   "id": "15501fc5",
   "metadata": {},
   "outputs": [
    {
     "data": {
      "text/html": [
       "<div>\n",
       "<style scoped>\n",
       "    .dataframe tbody tr th:only-of-type {\n",
       "        vertical-align: middle;\n",
       "    }\n",
       "\n",
       "    .dataframe tbody tr th {\n",
       "        vertical-align: top;\n",
       "    }\n",
       "\n",
       "    .dataframe thead th {\n",
       "        text-align: right;\n",
       "    }\n",
       "</style>\n",
       "<table border=\"1\" class=\"dataframe\">\n",
       "  <thead>\n",
       "    <tr style=\"text-align: right;\">\n",
       "      <th></th>\n",
       "      <th>Furnishings</th>\n",
       "      <th>Chairs</th>\n",
       "      <th>Bookcases</th>\n",
       "      <th>Tables</th>\n",
       "      <th>Appliances</th>\n",
       "      <th>Art</th>\n",
       "      <th>Binders</th>\n",
       "      <th>Paper</th>\n",
       "      <th>Storage</th>\n",
       "      <th>Supplies</th>\n",
       "    </tr>\n",
       "  </thead>\n",
       "  <tbody>\n",
       "    <tr>\n",
       "      <th>2017</th>\n",
       "      <td>1730</td>\n",
       "      <td>1954</td>\n",
       "      <td>1268</td>\n",
       "      <td>496</td>\n",
       "      <td>1035</td>\n",
       "      <td>2655</td>\n",
       "      <td>3311</td>\n",
       "      <td>2073</td>\n",
       "      <td>2778</td>\n",
       "      <td>1343</td>\n",
       "    </tr>\n",
       "    <tr>\n",
       "      <th>2018</th>\n",
       "      <td>2002</td>\n",
       "      <td>2197</td>\n",
       "      <td>1561</td>\n",
       "      <td>547</td>\n",
       "      <td>1148</td>\n",
       "      <td>3279</td>\n",
       "      <td>4123</td>\n",
       "      <td>2442</td>\n",
       "      <td>3282</td>\n",
       "      <td>1607</td>\n",
       "    </tr>\n",
       "    <tr>\n",
       "      <th>2019</th>\n",
       "      <td>2763</td>\n",
       "      <td>3072</td>\n",
       "      <td>1889</td>\n",
       "      <td>689</td>\n",
       "      <td>1403</td>\n",
       "      <td>3862</td>\n",
       "      <td>5186</td>\n",
       "      <td>3171</td>\n",
       "      <td>4112</td>\n",
       "      <td>2093</td>\n",
       "    </tr>\n",
       "    <tr>\n",
       "      <th>2020</th>\n",
       "      <td>3232</td>\n",
       "      <td>3516</td>\n",
       "      <td>2638</td>\n",
       "      <td>783</td>\n",
       "      <td>1831</td>\n",
       "      <td>5171</td>\n",
       "      <td>6571</td>\n",
       "      <td>3636</td>\n",
       "      <td>5164</td>\n",
       "      <td>2691</td>\n",
       "    </tr>\n",
       "  </tbody>\n",
       "</table>\n",
       "</div>"
      ],
      "text/plain": [
       "     Furnishings Chairs Bookcases Tables Appliances   Art Binders Paper  \\\n",
       "2017        1730   1954      1268    496       1035  2655    3311  2073   \n",
       "2018        2002   2197      1561    547       1148  3279    4123  2442   \n",
       "2019        2763   3072      1889    689       1403  3862    5186  3171   \n",
       "2020        3232   3516      2638    783       1831  5171    6571  3636   \n",
       "\n",
       "     Storage Supplies  \n",
       "2017    2778     1343  \n",
       "2018    3282     1607  \n",
       "2019    4112     2093  \n",
       "2020    5164     2691  "
      ]
     },
     "execution_count": 40,
     "metadata": {},
     "output_type": "execute_result"
    }
   ],
   "source": [
    "Subcategory_types = fdf['SubcategoryName'].unique()\n",
    "years = fdf['year'].unique()\n",
    "\n",
    "yearly_sales_qty_sub_cat = pd.DataFrame(index=years, columns=Subcategory_types)\n",
    "\n",
    "for cat_type in Subcategory_types:\n",
    "    for year in years:\n",
    "        total_sales = fdf[(fdf['year'] == year) & (fdf['SubcategoryName'] == cat_type)]['OrderQuantity'].sum()\n",
    "        yearly_sales_qty_sub_cat.loc[year, cat_type] = total_sales\n",
    "\n",
    "yearly_sales_qty_sub_cat"
   ]
  },
  {
   "cell_type": "markdown",
   "id": "d3cb163d",
   "metadata": {},
   "source": [
    "# Chapter 5: Visualization"
   ]
  },
  {
   "cell_type": "markdown",
   "id": "4f05e112",
   "metadata": {},
   "source": [
    "## Making Some cahanges on deafult styles"
   ]
  },
  {
   "cell_type": "code",
   "execution_count": 147,
   "id": "3ba521a5",
   "metadata": {},
   "outputs": [],
   "source": [
    "import matplotlib\n",
    "matplotlib.rcParams['font.size']=14\n",
    "matplotlib.rcParams['figure.figsize']=(9,5)\n",
    "matplotlib.rcParams['figure.facecolor']='#e8cfd6'"
   ]
  },
  {
   "cell_type": "markdown",
   "id": "7bae4cac",
   "metadata": {},
   "source": [
    "## Yearly sales of different Cagetory types over the period 2017 - 2020 (In terms of Quantity)"
   ]
  },
  {
   "cell_type": "code",
   "execution_count": 153,
   "id": "8f3141cd",
   "metadata": {},
   "outputs": [
    {
     "data": {
      "image/png": "[encoded data removed]",
      "text/plain": [
       "<Figure size 800x400 with 1 Axes>"
      ]
     },
     "metadata": {},
     "output_type": "display_data"
    }
   ],
   "source": [
    "# Plotting the data\n",
    "yearly_sales_qty.plot(kind='bar', figsize=(8, 4))\n",
    "plt.title('Yearly Sales Quantity by Category')\n",
    "plt.xlabel('Year')\n",
    "plt.ylabel('Sales Quantity')\n",
    "plt.xticks(rotation=0)\n",
    "plt.legend(title='Category')\n",
    "plt.grid(axis='y')\n",
    "plt.show()\n"
   ]
  },
  {
   "cell_type": "markdown",
   "id": "f11c9437",
   "metadata": {},
   "source": [
    "It can be seen the sales of Office Suplies are more than sales of Furniture over the period. The Sales has increased for both categories "
   ]
  },
  {
   "cell_type": "markdown",
   "id": "949dd2ce",
   "metadata": {},
   "source": [
    "##  Yearly sales of different Sub Cagetories over the period 2017 - 2020 (In terms of Quantity)"
   ]
  },
  {
   "cell_type": "code",
   "execution_count": 152,
   "id": "500fbae1",
   "metadata": {},
   "outputs": [
    {
     "data": {
      "image/png": "[encoded data removed]",
      "text/plain": [
       "<Figure size 800x400 with 1 Axes>"
      ]
     },
     "metadata": {},
     "output_type": "display_data"
    }
   ],
   "source": [
    "# Plotting the data\n",
    "yearly_sales_qty_sub_cat.plot(kind='line', figsize=(8, 4))\n",
    "plt.title('Yearly Sales Quantity by Sub Category')\n",
    "plt.xlabel('Year')\n",
    "plt.ylabel('Sales Quantity')\n",
    "plt.xticks(yearly_sales_qty.index, rotation=0)\n",
    "plt.legend(title='Category', bbox_to_anchor=(1.05, 1), loc='upper left')\n",
    "plt.show()\n"
   ]
  },
  {
   "cell_type": "markdown",
   "id": "1aee496b",
   "metadata": {},
   "source": [
    "The graph showing yearly sales quantity for each subcategory of furniture sold provides a visual summary of the sales performance of different subcategories over time."
   ]
  },
  {
   "cell_type": "markdown",
   "id": "4d4d20eb",
   "metadata": {},
   "source": [
    "## Average Sales Per Category over the period 2017-2020"
   ]
  },
  {
   "cell_type": "code",
   "execution_count": 151,
   "id": "89ff0274",
   "metadata": {},
   "outputs": [
    {
     "data": {
      "image/png": "[encoded data removed]",
      "text/plain": [
       "<Figure size 800x400 with 1 Axes>"
      ]
     },
     "metadata": {},
     "output_type": "display_data"
    }
   ],
   "source": [
    "# Calculate average sales quantity for each category\n",
    "avg_sales_per_category = yearly_sales_qty_sub_cat.mean(axis=1)\n",
    "\n",
    "# Plotting the average sales quantity\n",
    "plt.figure(figsize=(8, 4))\n",
    "avg_sales_per_category.plot(kind='barh', color='skyblue', edgecolor='black')\n",
    "plt.title('Average Sales Quantity per Sub Category (2017-2020)')\n",
    "plt.xlabel('Average Sales Quantity')\n",
    "plt.ylabel('Category')\n",
    "plt.show()\n",
    "\n"
   ]
  },
  {
   "cell_type": "markdown",
   "id": "29f90b9b",
   "metadata": {},
   "source": [
    "\n",
    "This code calculates the average sales quantity for each category across the years 2017 to 2020 and then visualizes the results in a horizontal bar plot. Here's a summary of the visualization:\n",
    "\n",
    "The horizontal bar plot displays the average sales quantity for each subcategory of furniture across the specified years.\n",
    "Each subcategory is represented by a horizontal bar, and the length of the bar indicates the average sales quantity.\n",
    "This visualization allows for a quick comparison of the average sales performance across different subcategories.\n",
    "Comparison between Categories"
   ]
  },
  {
   "cell_type": "markdown",
   "id": "ffc43750",
   "metadata": {},
   "source": [
    "## Minimum and Maximum demand of each sub category type "
   ]
  },
  {
   "cell_type": "code",
   "execution_count": 180,
   "id": "a25b57f0",
   "metadata": {},
   "outputs": [
    {
     "data": {
      "image/png": "[encoded data removed]",
      "text/plain": [
       "<Figure size 800x400 with 1 Axes>"
      ]
     },
     "metadata": {},
     "output_type": "display_data"
    }
   ],
   "source": [
    "# Plotting the box plot\n",
    "plt.figure(figsize=(8, 4))\n",
    "Sub_category_qty_range.boxplot()\n",
    "plt.title('Sales Quantity Range for Each Sub-category')\n",
    "plt.xlabel('Sub-category')\n",
    "plt.ylabel('Sales Quantity')\n",
    "plt.xticks(rotation=45)\n",
    "plt.grid(axis='y')\n",
    "plt.show()\n"
   ]
  },
  {
   "cell_type": "markdown",
   "id": "69f1e302",
   "metadata": {},
   "source": [
    "* The box plot provides a visual representation of the distribution of sales quantity within each subcategory.\n",
    "* The central line within each box represents the median sales quantity for the subcategory.\n",
    "* The box itself represents the interquartile range (IQR), which contains the middle 50% of the data. The lower and upper edges of the box represent the first and third quartiles, respectively.\n",
    "* The `\"whiskers\"` extend from the edges of the box to indicate the range of the data, excluding outliers."
   ]
  },
  {
   "cell_type": "markdown",
   "id": "e6515cd6",
   "metadata": {},
   "source": [
    "## Price range for different sub categorires"
   ]
  },
  {
   "cell_type": "code",
   "execution_count": 183,
   "id": "602ad648",
   "metadata": {},
   "outputs": [
    {
     "data": {
      "image/png": "[encoded data removed]",
      "text/plain": [
       "<Figure size 800x400 with 1 Axes>"
      ]
     },
     "metadata": {},
     "output_type": "display_data"
    }
   ],
   "source": [
    "# Plotting the box plot\n",
    "price_range_sub_cat.plot(kind='box',figsize=(8, 4));\n",
    "plt.title('Price Range for Each Sub-category');\n",
    "plt.xlabel('Sub-category');\n",
    "plt.ylabel('Price');\n",
    "plt.xticks(rotation=45);\n",
    "plt.show();"
   ]
  },
  {
   "cell_type": "markdown",
   "id": "74e433a5",
   "metadata": {},
   "source": [
    "* The box plot provides a visual representation of the distribution of prices within each subcategory.\n",
    "* Similar to the previous explanation, the central line within each box represents the median price for the subcategory.\n",
    "* The box itself represents the interquartile range (IQR), containing the middle 50% of the data. * The lower and upper edges of the box represent the first and third quartiles, respectively.\n",
    "* The `\"whiskers\"` extend from the edges of the box to indicate the range of the data, excluding outliers."
   ]
  },
  {
   "cell_type": "markdown",
   "id": "9f8f3850",
   "metadata": {},
   "source": [
    "## Year wise sales trend (in terms of amount)"
   ]
  },
  {
   "cell_type": "code",
   "execution_count": 60,
   "id": "b764b6d3",
   "metadata": {},
   "outputs": [],
   "source": [
    "#Addiing total sales column in the data frame fdf, furniture data frame.\n",
    "fdf['totalsales']=np.array(fdf['UnitPrice'])*np.array(fdf['OrderQuantity'])"
   ]
  },
  {
   "cell_type": "code",
   "execution_count": 45,
   "id": "874d1276",
   "metadata": {},
   "outputs": [
    {
     "data": {
      "image/png": "[encoded data removed]",
      "text/plain": [
       "<Figure size 640x480 with 1 Axes>"
      ]
     },
     "metadata": {},
     "output_type": "display_data"
    }
   ],
   "source": [
    "years = fdf['year'].unique()\n",
    "# Creating an empty DataFrame to store total sales per year\n",
    "total_sales_per_year = pd.DataFrame(index=['total_sales'], columns=years)\n",
    "\n",
    "# Iterating over each year\n",
    "for y in years:\n",
    "    # Filtering the DataFrame for the current year\n",
    "    year_data = fdf[fdf['year'] == y]\n",
    "    # Calculating the total sales for the current year\n",
    "    total_sales = year_data['totalsales'].sum()\n",
    "    # Assigning the total sales value to the corresponding column in total_sales_per_year DataFrame\n",
    "    total_sales_per_year[y] = total_sales\n",
    "\n",
    "    # Extracting the total sales values\n",
    "total_sales_values = total_sales_per_year.values[0]\n",
    "\n",
    "# Extracting the years\n",
    "years = total_sales_per_year.columns\n",
    "\n",
    "# Plotting the pie chart68))\n",
    "plt.pie(total_sales_values, labels=years, autopct='%1.1f%%', startangle=140)\n",
    "plt.title('Total Sales Distribution by Year',loc='center', pad=50)  # Move title downwards\n",
    "plt.axis('equal')  # Equal aspect ratio ensures that pie is drawn as a circle\n",
    "plt.show()"
   ]
  },
  {
   "cell_type": "markdown",
   "id": "b30beadb",
   "metadata": {},
   "source": [
    "* The pie chart represents the proportion of total sales contributed by each year.\n",
    "* Each slice of the pie corresponds to a specific year, and its size represents the percentage of total sales attributed to that year.\n",
    "* By examining the relative sizes of the slices, you can quickly identify which years contributed the most to the total sales and which years had lesser contributions."
   ]
  },
  {
   "cell_type": "markdown",
   "id": "a0ef956a",
   "metadata": {},
   "source": [
    "## Shipping-modes wise frequency and total sales trend"
   ]
  },
  {
   "cell_type": "code",
   "execution_count": 265,
   "id": "35693b04",
   "metadata": {},
   "outputs": [
    {
     "data": {
      "image/png": "[encoded data removed]",
      "text/plain": [
       "<Figure size 700x500 with 2 Axes>"
      ]
     },
     "metadata": {},
     "output_type": "display_data"
    }
   ],
   "source": [
    "fig, ax1 = plt.subplots(figsize=(7,5))\n",
    "# Plotting the count as a line plot\n",
    "color = 'tab:blue'\n",
    "ax1.plot(shmode_total_sales.index, shmode_total_sales['count'], color=color, marker='o', label='Count')\n",
    "ax1.set_xlabel('Ship Mode')\n",
    "ax1.set_ylabel('Count', color=color)\n",
    "ax1.tick_params(axis='y', labelcolor=color)\n",
    "# Creating a second y-axis for total sales\n",
    "ax2 = ax1.twinx()\n",
    "color = 'tab:green'\n",
    "ax2.bar(shmode_total_sales.index, shmode_total_sales['totalsales'], color=color, alpha=0.5, label='Total Sales')\n",
    "ax2.set_ylabel('Total Sales', color=color)\n",
    "ax2.tick_params(axis='y', labelcolor=color)\n",
    "# Set the tick positions and labels on the x-axis\n",
    "ax1.set_xticks(range(len(shmode_total_sales.index)))\n",
    "ax1.set_xticklabels(shmode_total_sales.index, rotation=45, ha='right')\n",
    "\n",
    "# Adding legends\n",
    "lines, labels = ax1.get_legend_handles_labels()\n",
    "lines2, labels2 = ax2.get_legend_handles_labels()\n",
    "ax2.legend(lines + lines2, labels + labels2, loc='upper right')\n",
    "# Adding grid\n",
    "ax1.grid(True)\n",
    "# Adjust layout\n",
    "plt.tight_layout()\n",
    "# Show plot\n",
    "plt.show()"
   ]
  },
  {
   "cell_type": "markdown",
   "id": "f651a47e",
   "metadata": {},
   "source": [
    "* The line plot (blue) represents the count of shipments for each ship mode along the primary y-axis. Each point on the line indicates the count of shipments for a particular ship mode.\n",
    "* The bar plot (green) represents the total sales for each ship mode along the secondary y-axis. The height of each bar indicates the total sales value for a specific ship mode."
   ]
  },
  {
   "cell_type": "markdown",
   "id": "11fd1b88",
   "metadata": {},
   "source": [
    "## The discount rate affect on the total sales amount\n"
   ]
  },
  {
   "cell_type": "code",
   "execution_count": 57,
   "id": "a7407070",
   "metadata": {},
   "outputs": [
    {
     "data": {
      "image/png": "[encoded data removed]",
      "text/plain": [
       "<Figure size 640x480 with 1 Axes>"
      ]
     },
     "metadata": {},
     "output_type": "display_data"
    }
   ],
   "source": [
    "disc = fdf['Discount %'].unique()\n",
    "disc_rate_total_sales = pd.DataFrame(index=disc, columns=['TotalSales'])  # Corrected column name\n",
    "for d in disc:\n",
    "    total_sales = fdf[fdf['Discount %'] == d]['totalsales'].sum()\n",
    "    disc_rate_total_sales.loc[d, 'TotalSales'] = total_sales  \n",
    "\n",
    "# Plotting the pie chart68))\n",
    "plt.pie(disc_rate_total_sales.TotalSales, labels=disc, autopct='%1.1f%%', startangle=140)\n",
    "plt.title('Total Sales Distribution by Year',loc='center', pad=50)  # Move title downwards\n",
    "plt.axis('equal')  # Equal aspect ratio ensures that pie is drawn as a circle\n",
    "plt.show()\n"
   ]
  },
  {
   "cell_type": "markdown",
   "id": "30cf05da",
   "metadata": {},
   "source": [
    "* The pie chart represents the proportion of total sales contributed by each discount rate.\n",
    "* Each slice of the pie corresponds to a specific discount rate, and its size represents the percentage of total sales attributed to that discount rate.\n",
    "* By examining the relative sizes of the slices, you can quickly identify which discount rates contributed the most to the total sales and which discount rates had lesser contributions."
   ]
  },
  {
   "cell_type": "markdown",
   "id": "107a295e",
   "metadata": {},
   "source": [
    "# Conclusion"
   ]
  },
  {
   "cell_type": "markdown",
   "id": "02f5e163",
   "metadata": {},
   "source": [
    "In our exploratory data analysis (EDA) project on furniture sales data, we embarked on a comprehensive journey to glean insights and uncover patterns within the dataset. \n",
    "<br>\n",
    "<br>\n",
    "Beginning with data cleansing, we ensured the integrity and reliability of our data by addressing missing values, duplicates, and inconsistencies. \n",
    "<br>\n",
    "<br>\n",
    "Through visualizations, we delved into the yearly sales trends of different category and subcategory types from 2017 to 2020, shedding light on the overall performance and fluctuations within each segment. By calculating average sales per category, we gained a nuanced understanding of typical sales volumes, enabling us to benchmark performance and identify areas for improvement. \n",
    "<br>\n",
    "<br>\n",
    "Moreover, analyzing the minimum and maximum demand of each subcategory provided valuable insights into sales variability and outlier detection, essential for strategic decision-making. Exploring the price range for different subcategories allowed us to grasp the pricing dynamics and market positioning of products, aiding in pricing strategies and market segmentation. \n",
    "<br>\n",
    "<br>\n",
    "Additionally, studying year-wise sales trends and the impact of discount rates on total sales amount deepened our understanding of market dynamics and the effectiveness of pricing strategies, guiding us in optimizing revenue generation and enhancing customer satisfaction. \n",
    "<br>\n",
    "<br>\n",
    "Through these analyses, we empowered ourselves with actionable insights to inform strategic business decisions and drive sustainable growth in the furniture sales market."
   ]
  },
  {
   "cell_type": "code",
   "execution_count": null,
   "id": "9430c7f4",
   "metadata": {},
   "outputs": [],
   "source": []
  }
 ],
 "metadata": {
  "kernelspec": {
   "display_name": "Python 3 (ipykernel)",
   "language": "python",
   "name": "python3"
  },
  "language_info": {
   "codemirror_mode": {
    "name": "ipython",
    "version": 3
   },
   "file_extension": ".py",
   "mimetype": "text/x-python",
   "name": "python",
   "nbconvert_exporter": "python",
   "pygments_lexer": "ipython3",
   "version": "3.11.4"
  }
 },
 "nbformat": 4,
 "nbformat_minor": 5
}
